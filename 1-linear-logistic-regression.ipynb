{
  "nbformat": 4,
  "nbformat_minor": 0,
  "metadata": {
    "colab": {
      "name": "Linear and Logistic Regression",
      "provenance": [],
      "toc_visible": true
    },
    "kernelspec": {
      "name": "python3",
      "display_name": "Python 3"
    }
  },
  "cells": [
    {
      "cell_type": "markdown",
      "metadata": {
        "id": "E_pDaDGSC2Vu",
        "colab_type": "text"
      },
      "source": [
        "This is the notebook for the first ML workshop that introduces linear and logistic regression. We show how to implement thse models using the Keras API.\n",
        "\n",
        "The example data used here is borrowed from the [Coursera ML course](https://www.coursera.org/learn/machine-learning)."
      ]
    },
    {
      "cell_type": "code",
      "metadata": {
        "id": "kMmG6V4IwKb4",
        "colab_type": "code",
        "colab": {}
      },
      "source": [
        "import numpy as np\n",
        "import tensorflow as tf\n",
        "import matplotlib.pyplot as plt\n",
        "\n",
        "from urllib.request import urlopen\n",
        "from sklearn.model_selection import train_test_split"
      ],
      "execution_count": 0,
      "outputs": []
    },
    {
      "cell_type": "markdown",
      "metadata": {
        "id": "phDVFwzEZKUO",
        "colab_type": "text"
      },
      "source": [
        "# Linear Regression\n",
        "\n",
        "We will implement a simple one layer neural net that can predict the price of a house from two featuers: its square footage and its number of bedrooms.\n",
        "\n",
        "First, let's prepare the data."
      ]
    },
    {
      "cell_type": "code",
      "metadata": {
        "id": "C_3N_Uaew3CU",
        "colab_type": "code",
        "colab": {}
      },
      "source": [
        "def get_data(link, dtype=int):\n",
        "  with urlopen(link) as f:\n",
        "    myfile = f.read().decode('utf-8')\n",
        "\n",
        "  data = []\n",
        "  for line in myfile.splitlines():\n",
        "    data.append(list(map(dtype, str(line).split(','))))\n",
        "\n",
        "  return np.asarray(data)"
      ],
      "execution_count": 0,
      "outputs": []
    },
    {
      "cell_type": "code",
      "metadata": {
        "id": "NjYcPiOOyofI",
        "colab_type": "code",
        "colab": {}
      },
      "source": [
        "def prepare_data(data):\n",
        "  X = data[:,0:2]\n",
        "  Y = data[:,-1]\n",
        "\n",
        "  mean = X.mean(axis=0)\n",
        "  stddev = X.std(axis=0)\n",
        "\n",
        "  X = (X - mean) / stddev\n",
        "\n",
        "  return X, Y"
      ],
      "execution_count": 0,
      "outputs": []
    },
    {
      "cell_type": "markdown",
      "metadata": {
        "id": "TZcRvo_X-IWB",
        "colab_type": "text"
      },
      "source": [
        "## Data Preparation\n",
        "\n",
        "Here we retrieve the data and put it all as-is in one numpy array:"
      ]
    },
    {
      "cell_type": "code",
      "metadata": {
        "id": "ikiqjLCyxzUV",
        "colab_type": "code",
        "outputId": "313a2565-f2a1-451a-eeb0-a1453f52db24",
        "colab": {
          "base_uri": "https://localhost:8080/",
          "height": 187
        }
      },
      "source": [
        "link = 'https://raw.githubusercontent.com/PrasannaNatarajan/Coursera-Machine-Learning-Andrew-NG/master/machine-learning-ex1/ex1/ex1data2.txt'\n",
        "data = get_data(link)\n",
        "data[:10]"
      ],
      "execution_count": 5,
      "outputs": [
        {
          "output_type": "execute_result",
          "data": {
            "text/plain": [
              "array([[  2104,      3, 399900],\n",
              "       [  1600,      3, 329900],\n",
              "       [  2400,      3, 369000],\n",
              "       [  1416,      2, 232000],\n",
              "       [  3000,      4, 539900],\n",
              "       [  1985,      4, 299900],\n",
              "       [  1534,      3, 314900],\n",
              "       [  1427,      3, 198999],\n",
              "       [  1380,      3, 212000],\n",
              "       [  1494,      3, 242500]])"
            ]
          },
          "metadata": {
            "tags": []
          },
          "execution_count": 5
        }
      ]
    },
    {
      "cell_type": "markdown",
      "metadata": {
        "id": "oY9yAZdY-yI7",
        "colab_type": "text"
      },
      "source": [
        "Next, we split the data into inputs (X) and outputs (Y). Furthermore, we normalize each feature (column) in X, by subtracting its mean and dividing by its standard deviation.\n",
        "\n",
        "Then we split all the data into training and testing."
      ]
    },
    {
      "cell_type": "code",
      "metadata": {
        "id": "JyowCRZHx1CQ",
        "colab_type": "code",
        "outputId": "0d4322bd-8250-403c-d0a0-ab48399cc596",
        "colab": {
          "base_uri": "https://localhost:8080/",
          "height": 187
        }
      },
      "source": [
        "X, Y = prepare_data(data)\n",
        "Y = Y /  1000\n",
        "X_train, X_test, y_train, y_test = train_test_split(X, Y, test_size=0.2)\n",
        "X_train[:10]"
      ],
      "execution_count": 6,
      "outputs": [
        {
          "output_type": "execute_result",
          "data": {
            "text/plain": [
              "array([[-0.29722726, -0.22609337],\n",
              "       [ 0.16702965,  1.10220517],\n",
              "       [ 0.38071502,  1.10220517],\n",
              "       [ 0.80935771, -0.22609337],\n",
              "       [-0.71696639, -0.22609337],\n",
              "       [ 1.27107075,  1.10220517],\n",
              "       [-1.0184154 , -0.22609337],\n",
              "       [-0.42823675, -1.5543919 ],\n",
              "       [ 0.72032214,  1.10220517],\n",
              "       [ 0.30185495, -0.22609337]])"
            ]
          },
          "metadata": {
            "tags": []
          },
          "execution_count": 6
        }
      ]
    },
    {
      "cell_type": "markdown",
      "metadata": {
        "id": "UQdp-AwX_JKV",
        "colab_type": "text"
      },
      "source": [
        "## Model Definition\n",
        "\n",
        "Our model consists of three nodes: two for the input and one for the output. You can think of this model as learning a line $y = a_1x_1 + a_2x_2 + a_3$, where $a$ are the learned weights and $x$ is the instance."
      ]
    },
    {
      "cell_type": "code",
      "metadata": {
        "id": "PyIGjRGxzaB6",
        "colab_type": "code",
        "outputId": "3379fd92-45dc-46cf-d0c6-b22c9e8e5ffd",
        "colab": {
          "base_uri": "https://localhost:8080/",
          "height": 187
        }
      },
      "source": [
        "model = tf.keras.Sequential()\n",
        "model.add(tf.keras.layers.Dense(input_dim=2, units=1, activation='linear'))\n",
        "model.summary()"
      ],
      "execution_count": 9,
      "outputs": [
        {
          "output_type": "stream",
          "text": [
            "Model: \"sequential_1\"\n",
            "_________________________________________________________________\n",
            "Layer (type)                 Output Shape              Param #   \n",
            "=================================================================\n",
            "dense (Dense)                (None, 1)                 3         \n",
            "=================================================================\n",
            "Total params: 3\n",
            "Trainable params: 3\n",
            "Non-trainable params: 0\n",
            "_________________________________________________________________\n"
          ],
          "name": "stdout"
        }
      ]
    },
    {
      "cell_type": "markdown",
      "metadata": {
        "id": "iw_c35mU_v9B",
        "colab_type": "text"
      },
      "source": [
        "We compile the model to tell it what objective function we're trying to minimize, and using which optimizer:"
      ]
    },
    {
      "cell_type": "code",
      "metadata": {
        "id": "JMpXHOVZz1_I",
        "colab_type": "code",
        "colab": {}
      },
      "source": [
        "model.compile(loss='mse',\n",
        "              optimizer=tf.keras.optimizers.SGD(lr=.01),\n",
        "              metrics=['mse'])"
      ],
      "execution_count": 0,
      "outputs": []
    },
    {
      "cell_type": "markdown",
      "metadata": {
        "id": "4AVMqZ_w_9xy",
        "colab_type": "text"
      },
      "source": [
        "## Training\n",
        "\n",
        "Finally, we traing the model with onn call to _fit_:"
      ]
    },
    {
      "cell_type": "code",
      "metadata": {
        "id": "a-BQbILH0C1W",
        "colab_type": "code",
        "outputId": "218a5b6c-d902-401c-d0b1-67137fbd047e",
        "colab": {
          "base_uri": "https://localhost:8080/",
          "height": 1000
        }
      },
      "source": [
        "history = model.fit(X_train, y_train, \n",
        "                    epochs=50, \n",
        "                    batch_size=8, \n",
        "                    validation_data=(X_test, y_test))"
      ],
      "execution_count": 13,
      "outputs": [
        {
          "output_type": "stream",
          "text": [
            "Epoch 1/50\n",
            "5/5 [==============================] - 0s 31ms/step - loss: 116328.6875 - mse: 121291.7969 - val_loss: 121255.8906 - val_mse: 117190.3984\n",
            "Epoch 2/50\n",
            "5/5 [==============================] - 0s 7ms/step - loss: 97342.9219 - mse: 99438.8125 - val_loss: 101153.9219 - val_mse: 98717.8672\n",
            "Epoch 3/50\n",
            "5/5 [==============================] - 0s 7ms/step - loss: 81041.4922 - mse: 80497.9062 - val_loss: 84678.8359 - val_mse: 83240.7656\n",
            "Epoch 4/50\n",
            "5/5 [==============================] - 0s 7ms/step - loss: 64590.2891 - mse: 65950.3438 - val_loss: 71313.4062 - val_mse: 70757.1016\n",
            "Epoch 5/50\n",
            "5/5 [==============================] - 0s 7ms/step - loss: 53249.5000 - mse: 54280.3750 - val_loss: 60500.6016 - val_mse: 60466.9609\n",
            "Epoch 6/50\n",
            "5/5 [==============================] - 0s 7ms/step - loss: 45396.4570 - mse: 44782.8750 - val_loss: 51382.4766 - val_mse: 51622.1523\n",
            "Epoch 7/50\n",
            "5/5 [==============================] - 0s 8ms/step - loss: 36705.7891 - mse: 37497.7422 - val_loss: 43976.4297 - val_mse: 44450.2305\n",
            "Epoch 8/50\n",
            "5/5 [==============================] - 0s 8ms/step - loss: 30634.9023 - mse: 31223.4023 - val_loss: 37806.1328 - val_mse: 38479.1680\n",
            "Epoch 9/50\n",
            "5/5 [==============================] - 0s 7ms/step - loss: 25845.6211 - mse: 26190.7051 - val_loss: 32678.7109 - val_mse: 33473.5078\n",
            "Epoch 10/50\n",
            "5/5 [==============================] - 0s 7ms/step - loss: 23072.5508 - mse: 22301.7598 - val_loss: 28217.3906 - val_mse: 29174.8398\n",
            "Epoch 11/50\n",
            "5/5 [==============================] - 0s 9ms/step - loss: 19318.5566 - mse: 18852.3691 - val_loss: 24551.0430 - val_mse: 25567.5391\n",
            "Epoch 12/50\n",
            "5/5 [==============================] - 0s 7ms/step - loss: 15975.3125 - mse: 16168.8008 - val_loss: 21622.5449 - val_mse: 22607.4277\n",
            "Epoch 13/50\n",
            "5/5 [==============================] - 0s 7ms/step - loss: 13669.4043 - mse: 14019.5596 - val_loss: 19094.2988 - val_mse: 20097.2832\n",
            "Epoch 14/50\n",
            "5/5 [==============================] - 0s 7ms/step - loss: 12646.1250 - mse: 12232.6221 - val_loss: 16955.0996 - val_mse: 17928.2617\n",
            "Epoch 15/50\n",
            "5/5 [==============================] - 0s 7ms/step - loss: 11176.4570 - mse: 10773.9355 - val_loss: 15134.9600 - val_mse: 16089.1621\n",
            "Epoch 16/50\n",
            "5/5 [==============================] - 0s 7ms/step - loss: 9400.3857 - mse: 9574.4531 - val_loss: 13635.8428 - val_mse: 14574.1279\n",
            "Epoch 17/50\n",
            "5/5 [==============================] - 0s 8ms/step - loss: 8327.1816 - mse: 8618.4131 - val_loss: 12409.6387 - val_mse: 13302.9346\n",
            "Epoch 18/50\n",
            "5/5 [==============================] - 0s 9ms/step - loss: 7798.3291 - mse: 7853.4688 - val_loss: 11335.0410 - val_mse: 12203.5361\n",
            "Epoch 19/50\n",
            "5/5 [==============================] - 0s 8ms/step - loss: 7120.6226 - mse: 7230.6958 - val_loss: 10475.1738 - val_mse: 11309.2764\n",
            "Epoch 20/50\n",
            "5/5 [==============================] - 0s 7ms/step - loss: 6458.4917 - mse: 6753.1694 - val_loss: 9732.2402 - val_mse: 10539.4688\n",
            "Epoch 21/50\n",
            "5/5 [==============================] - 0s 8ms/step - loss: 6065.3774 - mse: 6309.8096 - val_loss: 9077.5703 - val_mse: 9862.1475\n",
            "Epoch 22/50\n",
            "5/5 [==============================] - 0s 7ms/step - loss: 6063.1636 - mse: 5976.5908 - val_loss: 8469.1289 - val_mse: 9237.0635\n",
            "Epoch 23/50\n",
            "5/5 [==============================] - 0s 7ms/step - loss: 6035.4561 - mse: 5677.4341 - val_loss: 7871.9111 - val_mse: 8629.1006\n",
            "Epoch 24/50\n",
            "5/5 [==============================] - 0s 7ms/step - loss: 5082.3540 - mse: 5367.5391 - val_loss: 7445.1592 - val_mse: 8192.4561\n",
            "Epoch 25/50\n",
            "5/5 [==============================] - 0s 7ms/step - loss: 5881.9990 - mse: 5180.3389 - val_loss: 7030.9595 - val_mse: 7763.5596\n",
            "Epoch 26/50\n",
            "5/5 [==============================] - 0s 9ms/step - loss: 5017.7900 - mse: 5019.8174 - val_loss: 6672.9160 - val_mse: 7396.6201\n",
            "Epoch 27/50\n",
            "5/5 [==============================] - 0s 7ms/step - loss: 5346.3257 - mse: 4837.7642 - val_loss: 6406.1904 - val_mse: 7123.9258\n",
            "Epoch 28/50\n",
            "5/5 [==============================] - 0s 7ms/step - loss: 4845.8174 - mse: 4716.5420 - val_loss: 6149.2158 - val_mse: 6865.8828\n",
            "Epoch 29/50\n",
            "5/5 [==============================] - 0s 7ms/step - loss: 4637.6123 - mse: 4645.5674 - val_loss: 5922.4395 - val_mse: 6642.2881\n",
            "Epoch 30/50\n",
            "5/5 [==============================] - 0s 7ms/step - loss: 4569.5771 - mse: 4553.4463 - val_loss: 5750.9990 - val_mse: 6477.8115\n",
            "Epoch 31/50\n",
            "5/5 [==============================] - 0s 8ms/step - loss: 4424.7378 - mse: 4505.7729 - val_loss: 5574.9414 - val_mse: 6309.0205\n",
            "Epoch 32/50\n",
            "5/5 [==============================] - 0s 7ms/step - loss: 4378.4272 - mse: 4430.2773 - val_loss: 5377.5459 - val_mse: 6105.6768\n",
            "Epoch 33/50\n",
            "5/5 [==============================] - 0s 7ms/step - loss: 4455.1104 - mse: 4379.1621 - val_loss: 5255.6108 - val_mse: 5989.9033\n",
            "Epoch 34/50\n",
            "5/5 [==============================] - 0s 7ms/step - loss: 4644.3140 - mse: 4337.6235 - val_loss: 5102.4580 - val_mse: 5842.4766\n",
            "Epoch 35/50\n",
            "5/5 [==============================] - 0s 8ms/step - loss: 4255.1924 - mse: 4300.1104 - val_loss: 5007.2690 - val_mse: 5749.8618\n",
            "Epoch 36/50\n",
            "5/5 [==============================] - 0s 9ms/step - loss: 4305.4897 - mse: 4274.5020 - val_loss: 4926.5127 - val_mse: 5682.9390\n",
            "Epoch 37/50\n",
            "5/5 [==============================] - 0s 7ms/step - loss: 4138.9521 - mse: 4267.6548 - val_loss: 4833.4019 - val_mse: 5595.9258\n",
            "Epoch 38/50\n",
            "5/5 [==============================] - 0s 7ms/step - loss: 4624.4707 - mse: 4230.7578 - val_loss: 4749.8960 - val_mse: 5521.0244\n",
            "Epoch 39/50\n",
            "5/5 [==============================] - 0s 7ms/step - loss: 4220.0400 - mse: 4195.2100 - val_loss: 4655.6997 - val_mse: 5432.1577\n",
            "Epoch 40/50\n",
            "5/5 [==============================] - 0s 7ms/step - loss: 4659.3394 - mse: 4190.4839 - val_loss: 4579.6587 - val_mse: 5362.2241\n",
            "Epoch 41/50\n",
            "5/5 [==============================] - 0s 7ms/step - loss: 4092.0356 - mse: 4184.3276 - val_loss: 4480.4922 - val_mse: 5256.3906\n",
            "Epoch 42/50\n",
            "5/5 [==============================] - 0s 7ms/step - loss: 3990.3000 - mse: 4164.7393 - val_loss: 4422.6650 - val_mse: 5202.0571\n",
            "Epoch 43/50\n",
            "5/5 [==============================] - 0s 8ms/step - loss: 3961.3550 - mse: 4148.8774 - val_loss: 4384.2432 - val_mse: 5171.6826\n",
            "Epoch 44/50\n",
            "5/5 [==============================] - 0s 8ms/step - loss: 4112.6406 - mse: 4141.7144 - val_loss: 4354.7910 - val_mse: 5151.5845\n",
            "Epoch 45/50\n",
            "5/5 [==============================] - 0s 9ms/step - loss: 4019.8801 - mse: 4136.4199 - val_loss: 4296.3037 - val_mse: 5092.9155\n",
            "Epoch 46/50\n",
            "5/5 [==============================] - 0s 8ms/step - loss: 3992.2363 - mse: 4124.2559 - val_loss: 4249.4175 - val_mse: 5048.2935\n",
            "Epoch 47/50\n",
            "5/5 [==============================] - 0s 7ms/step - loss: 4066.7642 - mse: 4125.1445 - val_loss: 4223.3882 - val_mse: 5028.8955\n",
            "Epoch 48/50\n",
            "5/5 [==============================] - 0s 8ms/step - loss: 3994.7371 - mse: 4126.6055 - val_loss: 4199.2256 - val_mse: 5003.2446\n",
            "Epoch 49/50\n",
            "5/5 [==============================] - 0s 7ms/step - loss: 4544.6826 - mse: 4102.1035 - val_loss: 4162.0508 - val_mse: 4969.1079\n",
            "Epoch 50/50\n",
            "5/5 [==============================] - 0s 7ms/step - loss: 4117.1831 - mse: 4109.9048 - val_loss: 4154.3647 - val_mse: 4964.6689\n"
          ],
          "name": "stdout"
        }
      ]
    },
    {
      "cell_type": "code",
      "metadata": {
        "id": "2To4jfd10Mqf",
        "colab_type": "code",
        "outputId": "78f034a5-07f4-420d-9de8-81566a497a45",
        "colab": {
          "base_uri": "https://localhost:8080/",
          "height": 295
        }
      },
      "source": [
        "plt.plot(history.history['loss'], label='Training Loss')\n",
        "plt.plot(history.history['val_loss'], label='Validation Loss')\n",
        "plt.title('Model loss')\n",
        "plt.ylabel('Loss')\n",
        "plt.xlabel('Epoch')\n",
        "plt.legend(loc='upper right')\n",
        "plt.show()"
      ],
      "execution_count": 14,
      "outputs": [
        {
          "output_type": "display_data",
          "data": {
            "image/png": "[encoded data removed]",
            "text/plain": [
              "<Figure size 432x288 with 1 Axes>"
            ]
          },
          "metadata": {
            "tags": [],
            "needs_background": "light"
          }
        }
      ]
    },
    {
      "cell_type": "markdown",
      "metadata": {
        "id": "mDhMIrnAZNXn",
        "colab_type": "text"
      },
      "source": [
        "# Logistic Regression\n",
        "\n",
        "We can use logistic regression to learn a decision line between points from different categories.\n",
        "\n",
        "In this example, we teach a neural net to predict the admittance decision of a student based on their scores on two exams."
      ]
    },
    {
      "cell_type": "markdown",
      "metadata": {
        "id": "f-6bNLK7BO25",
        "colab_type": "text"
      },
      "source": [
        "We use the same functions to obtain and prepare the data. Each row represents a student's score on exam 1, exam 2, and whether they were admitted (0 or 1)."
      ]
    },
    {
      "cell_type": "code",
      "metadata": {
        "id": "vfYYwDYvZMu6",
        "colab_type": "code",
        "outputId": "698b3bdc-0314-44d3-d5fb-ac3cb5428039",
        "colab": {
          "base_uri": "https://localhost:8080/",
          "height": 187
        }
      },
      "source": [
        "link = 'https://raw.githubusercontent.com/PrasannaNatarajan/Coursera-Machine-Learning-Andrew-NG/master/machine-learning-ex2/machine-learning-ex2/ex2/ex2data1.txt'\n",
        "data = get_data(link, dtype=float)\n",
        "data[:10]"
      ],
      "execution_count": 15,
      "outputs": [
        {
          "output_type": "execute_result",
          "data": {
            "text/plain": [
              "array([[34.62365962, 78.02469282,  0.        ],\n",
              "       [30.28671077, 43.89499752,  0.        ],\n",
              "       [35.84740877, 72.90219803,  0.        ],\n",
              "       [60.18259939, 86.3085521 ,  1.        ],\n",
              "       [79.03273605, 75.34437644,  1.        ],\n",
              "       [45.08327748, 56.31637178,  0.        ],\n",
              "       [61.10666454, 96.51142588,  1.        ],\n",
              "       [75.02474557, 46.55401354,  1.        ],\n",
              "       [76.0987867 , 87.42056972,  1.        ],\n",
              "       [84.43281996, 43.53339331,  1.        ]])"
            ]
          },
          "metadata": {
            "tags": []
          },
          "execution_count": 15
        }
      ]
    },
    {
      "cell_type": "code",
      "metadata": {
        "id": "8zarrhwObhj8",
        "colab_type": "code",
        "outputId": "020a0854-d196-409a-d558-fbb7f687abd7",
        "colab": {
          "base_uri": "https://localhost:8080/",
          "height": 279
        }
      },
      "source": [
        "colors = ['b' if i == 1 else 'r' for i in data[:,2]]\n",
        "plt.scatter(data[:,0], data[:,1], marker='.', c=colors)\n",
        "plt.xlabel('Exam 1')\n",
        "plt.ylabel('Exam 2')\n",
        "plt.show()"
      ],
      "execution_count": 16,
      "outputs": [
        {
          "output_type": "display_data",
          "data": {
            "image/png": "[encoded data removed]",
            "text/plain": [
              "<Figure size 432x288 with 1 Axes>"
            ]
          },
          "metadata": {
            "tags": [],
            "needs_background": "light"
          }
        }
      ]
    },
    {
      "cell_type": "code",
      "metadata": {
        "id": "XhbM0QlPZevd",
        "colab_type": "code",
        "colab": {}
      },
      "source": [
        "X, Y = prepare_data(data)\n",
        "X_train, X_test, y_train, y_test = train_test_split(X, Y, test_size=0.2)"
      ],
      "execution_count": 0,
      "outputs": []
    },
    {
      "cell_type": "markdown",
      "metadata": {
        "id": "PgDlLlWJBtfA",
        "colab_type": "text"
      },
      "source": [
        "## Model Definition\n",
        "\n",
        "Our model is the same because we still have two inputs, and one output. The one difference is that we apply a sigmoid activation at the end to squash the output range to $[0,1]$ so we can compare it directly with our target outputs."
      ]
    },
    {
      "cell_type": "code",
      "metadata": {
        "id": "TdrjvXIwZrVu",
        "colab_type": "code",
        "outputId": "da06d743-584b-45ea-fb9f-f8bd91d8f3a1",
        "colab": {
          "base_uri": "https://localhost:8080/",
          "height": 187
        }
      },
      "source": [
        "model = tf.keras.Sequential()\n",
        "model.add(tf.keras.layers.Dense(input_dim=2, units=1, activation='sigmoid'))\n",
        "model.summary()"
      ],
      "execution_count": 18,
      "outputs": [
        {
          "output_type": "stream",
          "text": [
            "Model: \"sequential_2\"\n",
            "_________________________________________________________________\n",
            "Layer (type)                 Output Shape              Param #   \n",
            "=================================================================\n",
            "dense_1 (Dense)              (None, 1)                 3         \n",
            "=================================================================\n",
            "Total params: 3\n",
            "Trainable params: 3\n",
            "Non-trainable params: 0\n",
            "_________________________________________________________________\n"
          ],
          "name": "stdout"
        }
      ]
    },
    {
      "cell_type": "markdown",
      "metadata": {
        "id": "2wT-8WDTBz_-",
        "colab_type": "text"
      },
      "source": [
        "This time though, our loss function is cross entropy because we are learning a classification problem. In addition, we can use the accuracy metric to view the model's performance in a more interpretable metric than only loss.\n"
      ]
    },
    {
      "cell_type": "code",
      "metadata": {
        "id": "XXLXDiBbZ8g4",
        "colab_type": "code",
        "colab": {}
      },
      "source": [
        "model.compile(loss='binary_crossentropy',\n",
        "              optimizer=tf.keras.optimizers.SGD(lr=.01),\n",
        "              metrics=['accuracy'])"
      ],
      "execution_count": 0,
      "outputs": []
    },
    {
      "cell_type": "code",
      "metadata": {
        "id": "mljAYUWfauCh",
        "colab_type": "code",
        "outputId": "2d9bf765-7e8c-4c90-f8dc-6bc360f0bf1f",
        "colab": {
          "base_uri": "https://localhost:8080/",
          "height": 1000
        }
      },
      "source": [
        "history = model.fit(X_train, y_train, epochs=100, batch_size=8, validation_data=(X_test, y_test))"
      ],
      "execution_count": 20,
      "outputs": [
        {
          "output_type": "stream",
          "text": [
            "Epoch 1/100\n",
            "10/10 [==============================] - 0s 10ms/step - loss: 0.3576 - accuracy: 0.8375 - val_loss: 0.3122 - val_accuracy: 0.9500\n",
            "Epoch 2/100\n",
            "10/10 [==============================] - 0s 4ms/step - loss: 0.3554 - accuracy: 0.8500 - val_loss: 0.3120 - val_accuracy: 0.9500\n",
            "Epoch 3/100\n",
            "10/10 [==============================] - 0s 4ms/step - loss: 0.3531 - accuracy: 0.8625 - val_loss: 0.3118 - val_accuracy: 0.9500\n",
            "Epoch 4/100\n",
            "10/10 [==============================] - 0s 4ms/step - loss: 0.3509 - accuracy: 0.8625 - val_loss: 0.3116 - val_accuracy: 0.9500\n",
            "Epoch 5/100\n",
            "10/10 [==============================] - 0s 4ms/step - loss: 0.3488 - accuracy: 0.8500 - val_loss: 0.3115 - val_accuracy: 0.9500\n",
            "Epoch 6/100\n",
            "10/10 [==============================] - 0s 4ms/step - loss: 0.3468 - accuracy: 0.8500 - val_loss: 0.3113 - val_accuracy: 0.9500\n",
            "Epoch 7/100\n",
            "10/10 [==============================] - 0s 5ms/step - loss: 0.3447 - accuracy: 0.8500 - val_loss: 0.3112 - val_accuracy: 0.9500\n",
            "Epoch 8/100\n",
            "10/10 [==============================] - 0s 4ms/step - loss: 0.3428 - accuracy: 0.8500 - val_loss: 0.3111 - val_accuracy: 0.9500\n",
            "Epoch 9/100\n",
            "10/10 [==============================] - 0s 4ms/step - loss: 0.3408 - accuracy: 0.8500 - val_loss: 0.3110 - val_accuracy: 0.9500\n",
            "Epoch 10/100\n",
            "10/10 [==============================] - 0s 4ms/step - loss: 0.3390 - accuracy: 0.8500 - val_loss: 0.3110 - val_accuracy: 0.9500\n",
            "Epoch 11/100\n",
            "10/10 [==============================] - 0s 5ms/step - loss: 0.3372 - accuracy: 0.8500 - val_loss: 0.3109 - val_accuracy: 0.9500\n",
            "Epoch 12/100\n",
            "10/10 [==============================] - 0s 4ms/step - loss: 0.3354 - accuracy: 0.8500 - val_loss: 0.3109 - val_accuracy: 0.9500\n",
            "Epoch 13/100\n",
            "10/10 [==============================] - 0s 4ms/step - loss: 0.3338 - accuracy: 0.8500 - val_loss: 0.3108 - val_accuracy: 0.9500\n",
            "Epoch 14/100\n",
            "10/10 [==============================] - 0s 4ms/step - loss: 0.3321 - accuracy: 0.8500 - val_loss: 0.3108 - val_accuracy: 0.9000\n",
            "Epoch 15/100\n",
            "10/10 [==============================] - 0s 4ms/step - loss: 0.3305 - accuracy: 0.8500 - val_loss: 0.3108 - val_accuracy: 0.9000\n",
            "Epoch 16/100\n",
            "10/10 [==============================] - 0s 4ms/step - loss: 0.3289 - accuracy: 0.8500 - val_loss: 0.3108 - val_accuracy: 0.9000\n",
            "Epoch 17/100\n",
            "10/10 [==============================] - 0s 4ms/step - loss: 0.3274 - accuracy: 0.8500 - val_loss: 0.3108 - val_accuracy: 0.9000\n",
            "Epoch 18/100\n",
            "10/10 [==============================] - 0s 4ms/step - loss: 0.3259 - accuracy: 0.8500 - val_loss: 0.3108 - val_accuracy: 0.9000\n",
            "Epoch 19/100\n",
            "10/10 [==============================] - 0s 4ms/step - loss: 0.3244 - accuracy: 0.8500 - val_loss: 0.3109 - val_accuracy: 0.9000\n",
            "Epoch 20/100\n",
            "10/10 [==============================] - 0s 4ms/step - loss: 0.3229 - accuracy: 0.8500 - val_loss: 0.3109 - val_accuracy: 0.9000\n",
            "Epoch 21/100\n",
            "10/10 [==============================] - 0s 5ms/step - loss: 0.3215 - accuracy: 0.8500 - val_loss: 0.3109 - val_accuracy: 0.9000\n",
            "Epoch 22/100\n",
            "10/10 [==============================] - 0s 4ms/step - loss: 0.3202 - accuracy: 0.8500 - val_loss: 0.3110 - val_accuracy: 0.9000\n",
            "Epoch 23/100\n",
            "10/10 [==============================] - 0s 4ms/step - loss: 0.3188 - accuracy: 0.8500 - val_loss: 0.3110 - val_accuracy: 0.9000\n",
            "Epoch 24/100\n",
            "10/10 [==============================] - 0s 4ms/step - loss: 0.3176 - accuracy: 0.8500 - val_loss: 0.3111 - val_accuracy: 0.9000\n",
            "Epoch 25/100\n",
            "10/10 [==============================] - 0s 5ms/step - loss: 0.3163 - accuracy: 0.8625 - val_loss: 0.3112 - val_accuracy: 0.9000\n",
            "Epoch 26/100\n",
            "10/10 [==============================] - 0s 5ms/step - loss: 0.3150 - accuracy: 0.8625 - val_loss: 0.3112 - val_accuracy: 0.9000\n",
            "Epoch 27/100\n",
            "10/10 [==============================] - 0s 4ms/step - loss: 0.3139 - accuracy: 0.8625 - val_loss: 0.3113 - val_accuracy: 0.9000\n",
            "Epoch 28/100\n",
            "10/10 [==============================] - 0s 4ms/step - loss: 0.3126 - accuracy: 0.8625 - val_loss: 0.3114 - val_accuracy: 0.9000\n",
            "Epoch 29/100\n",
            "10/10 [==============================] - 0s 5ms/step - loss: 0.3115 - accuracy: 0.8625 - val_loss: 0.3114 - val_accuracy: 0.9000\n",
            "Epoch 30/100\n",
            "10/10 [==============================] - 0s 5ms/step - loss: 0.3104 - accuracy: 0.8625 - val_loss: 0.3115 - val_accuracy: 0.8500\n",
            "Epoch 31/100\n",
            "10/10 [==============================] - 0s 4ms/step - loss: 0.3092 - accuracy: 0.8625 - val_loss: 0.3116 - val_accuracy: 0.8500\n",
            "Epoch 32/100\n",
            "10/10 [==============================] - 0s 5ms/step - loss: 0.3081 - accuracy: 0.8625 - val_loss: 0.3117 - val_accuracy: 0.8500\n",
            "Epoch 33/100\n",
            "10/10 [==============================] - 0s 4ms/step - loss: 0.3070 - accuracy: 0.8625 - val_loss: 0.3118 - val_accuracy: 0.8500\n",
            "Epoch 34/100\n",
            "10/10 [==============================] - 0s 4ms/step - loss: 0.3059 - accuracy: 0.8625 - val_loss: 0.3119 - val_accuracy: 0.8500\n",
            "Epoch 35/100\n",
            "10/10 [==============================] - 0s 4ms/step - loss: 0.3050 - accuracy: 0.8625 - val_loss: 0.3120 - val_accuracy: 0.8500\n",
            "Epoch 36/100\n",
            "10/10 [==============================] - 0s 4ms/step - loss: 0.3040 - accuracy: 0.8625 - val_loss: 0.3121 - val_accuracy: 0.8500\n",
            "Epoch 37/100\n",
            "10/10 [==============================] - 0s 4ms/step - loss: 0.3030 - accuracy: 0.8625 - val_loss: 0.3122 - val_accuracy: 0.8500\n",
            "Epoch 38/100\n",
            "10/10 [==============================] - 0s 4ms/step - loss: 0.3021 - accuracy: 0.8625 - val_loss: 0.3123 - val_accuracy: 0.8500\n",
            "Epoch 39/100\n",
            "10/10 [==============================] - 0s 5ms/step - loss: 0.3011 - accuracy: 0.8625 - val_loss: 0.3124 - val_accuracy: 0.8500\n",
            "Epoch 40/100\n",
            "10/10 [==============================] - 0s 4ms/step - loss: 0.3001 - accuracy: 0.8625 - val_loss: 0.3125 - val_accuracy: 0.8500\n",
            "Epoch 41/100\n",
            "10/10 [==============================] - 0s 4ms/step - loss: 0.2992 - accuracy: 0.8625 - val_loss: 0.3125 - val_accuracy: 0.8500\n",
            "Epoch 42/100\n",
            "10/10 [==============================] - 0s 4ms/step - loss: 0.2983 - accuracy: 0.8625 - val_loss: 0.3126 - val_accuracy: 0.8500\n",
            "Epoch 43/100\n",
            "10/10 [==============================] - 0s 4ms/step - loss: 0.2974 - accuracy: 0.8625 - val_loss: 0.3127 - val_accuracy: 0.8500\n",
            "Epoch 44/100\n",
            "10/10 [==============================] - 0s 4ms/step - loss: 0.2966 - accuracy: 0.8625 - val_loss: 0.3128 - val_accuracy: 0.9000\n",
            "Epoch 45/100\n",
            "10/10 [==============================] - 0s 4ms/step - loss: 0.2957 - accuracy: 0.8625 - val_loss: 0.3129 - val_accuracy: 0.9000\n",
            "Epoch 46/100\n",
            "10/10 [==============================] - 0s 4ms/step - loss: 0.2949 - accuracy: 0.8625 - val_loss: 0.3130 - val_accuracy: 0.9000\n",
            "Epoch 47/100\n",
            "10/10 [==============================] - 0s 4ms/step - loss: 0.2941 - accuracy: 0.8625 - val_loss: 0.3131 - val_accuracy: 0.9000\n",
            "Epoch 48/100\n",
            "10/10 [==============================] - 0s 4ms/step - loss: 0.2933 - accuracy: 0.8625 - val_loss: 0.3132 - val_accuracy: 0.9000\n",
            "Epoch 49/100\n",
            "10/10 [==============================] - 0s 5ms/step - loss: 0.2924 - accuracy: 0.8750 - val_loss: 0.3133 - val_accuracy: 0.9000\n",
            "Epoch 50/100\n",
            "10/10 [==============================] - 0s 5ms/step - loss: 0.2916 - accuracy: 0.8750 - val_loss: 0.3134 - val_accuracy: 0.9000\n",
            "Epoch 51/100\n",
            "10/10 [==============================] - 0s 4ms/step - loss: 0.2909 - accuracy: 0.8750 - val_loss: 0.3135 - val_accuracy: 0.9000\n",
            "Epoch 52/100\n",
            "10/10 [==============================] - 0s 4ms/step - loss: 0.2902 - accuracy: 0.8750 - val_loss: 0.3136 - val_accuracy: 0.9000\n",
            "Epoch 53/100\n",
            "10/10 [==============================] - 0s 4ms/step - loss: 0.2894 - accuracy: 0.8750 - val_loss: 0.3136 - val_accuracy: 0.9000\n",
            "Epoch 54/100\n",
            "10/10 [==============================] - 0s 4ms/step - loss: 0.2888 - accuracy: 0.8750 - val_loss: 0.3137 - val_accuracy: 0.9000\n",
            "Epoch 55/100\n",
            "10/10 [==============================] - 0s 4ms/step - loss: 0.2880 - accuracy: 0.8750 - val_loss: 0.3138 - val_accuracy: 0.9000\n",
            "Epoch 56/100\n",
            "10/10 [==============================] - 0s 4ms/step - loss: 0.2873 - accuracy: 0.8750 - val_loss: 0.3139 - val_accuracy: 0.9000\n",
            "Epoch 57/100\n",
            "10/10 [==============================] - 0s 4ms/step - loss: 0.2866 - accuracy: 0.8750 - val_loss: 0.3140 - val_accuracy: 0.9000\n",
            "Epoch 58/100\n",
            "10/10 [==============================] - 0s 5ms/step - loss: 0.2859 - accuracy: 0.8750 - val_loss: 0.3141 - val_accuracy: 0.9000\n",
            "Epoch 59/100\n",
            "10/10 [==============================] - 0s 4ms/step - loss: 0.2853 - accuracy: 0.8750 - val_loss: 0.3142 - val_accuracy: 0.9000\n",
            "Epoch 60/100\n",
            "10/10 [==============================] - 0s 4ms/step - loss: 0.2846 - accuracy: 0.8750 - val_loss: 0.3142 - val_accuracy: 0.9000\n",
            "Epoch 61/100\n",
            "10/10 [==============================] - 0s 4ms/step - loss: 0.2840 - accuracy: 0.8750 - val_loss: 0.3143 - val_accuracy: 0.9000\n",
            "Epoch 62/100\n",
            "10/10 [==============================] - 0s 4ms/step - loss: 0.2833 - accuracy: 0.8750 - val_loss: 0.3144 - val_accuracy: 0.9000\n",
            "Epoch 63/100\n",
            "10/10 [==============================] - 0s 4ms/step - loss: 0.2827 - accuracy: 0.8750 - val_loss: 0.3145 - val_accuracy: 0.9000\n",
            "Epoch 64/100\n",
            "10/10 [==============================] - 0s 4ms/step - loss: 0.2821 - accuracy: 0.8750 - val_loss: 0.3145 - val_accuracy: 0.9000\n",
            "Epoch 65/100\n",
            "10/10 [==============================] - 0s 4ms/step - loss: 0.2815 - accuracy: 0.8750 - val_loss: 0.3146 - val_accuracy: 0.9000\n",
            "Epoch 66/100\n",
            "10/10 [==============================] - 0s 4ms/step - loss: 0.2809 - accuracy: 0.8750 - val_loss: 0.3147 - val_accuracy: 0.9000\n",
            "Epoch 67/100\n",
            "10/10 [==============================] - 0s 5ms/step - loss: 0.2803 - accuracy: 0.8750 - val_loss: 0.3147 - val_accuracy: 0.9000\n",
            "Epoch 68/100\n",
            "10/10 [==============================] - 0s 5ms/step - loss: 0.2797 - accuracy: 0.8750 - val_loss: 0.3148 - val_accuracy: 0.9000\n",
            "Epoch 69/100\n",
            "10/10 [==============================] - 0s 4ms/step - loss: 0.2791 - accuracy: 0.8750 - val_loss: 0.3149 - val_accuracy: 0.9000\n",
            "Epoch 70/100\n",
            "10/10 [==============================] - 0s 4ms/step - loss: 0.2785 - accuracy: 0.8750 - val_loss: 0.3149 - val_accuracy: 0.9000\n",
            "Epoch 71/100\n",
            "10/10 [==============================] - 0s 4ms/step - loss: 0.2780 - accuracy: 0.8750 - val_loss: 0.3150 - val_accuracy: 0.9000\n",
            "Epoch 72/100\n",
            "10/10 [==============================] - 0s 5ms/step - loss: 0.2774 - accuracy: 0.8750 - val_loss: 0.3150 - val_accuracy: 0.9000\n",
            "Epoch 73/100\n",
            "10/10 [==============================] - 0s 5ms/step - loss: 0.2769 - accuracy: 0.8750 - val_loss: 0.3151 - val_accuracy: 0.9000\n",
            "Epoch 74/100\n",
            "10/10 [==============================] - 0s 4ms/step - loss: 0.2764 - accuracy: 0.8750 - val_loss: 0.3152 - val_accuracy: 0.9000\n",
            "Epoch 75/100\n",
            "10/10 [==============================] - 0s 4ms/step - loss: 0.2759 - accuracy: 0.8750 - val_loss: 0.3152 - val_accuracy: 0.9000\n",
            "Epoch 76/100\n",
            "10/10 [==============================] - 0s 4ms/step - loss: 0.2754 - accuracy: 0.8750 - val_loss: 0.3152 - val_accuracy: 0.9000\n",
            "Epoch 77/100\n",
            "10/10 [==============================] - 0s 5ms/step - loss: 0.2748 - accuracy: 0.8750 - val_loss: 0.3153 - val_accuracy: 0.9000\n",
            "Epoch 78/100\n",
            "10/10 [==============================] - 0s 4ms/step - loss: 0.2743 - accuracy: 0.8750 - val_loss: 0.3153 - val_accuracy: 0.9000\n",
            "Epoch 79/100\n",
            "10/10 [==============================] - 0s 4ms/step - loss: 0.2738 - accuracy: 0.8750 - val_loss: 0.3154 - val_accuracy: 0.9000\n",
            "Epoch 80/100\n",
            "10/10 [==============================] - 0s 4ms/step - loss: 0.2733 - accuracy: 0.8750 - val_loss: 0.3154 - val_accuracy: 0.9000\n",
            "Epoch 81/100\n",
            "10/10 [==============================] - 0s 4ms/step - loss: 0.2728 - accuracy: 0.8750 - val_loss: 0.3155 - val_accuracy: 0.9000\n",
            "Epoch 82/100\n",
            "10/10 [==============================] - 0s 4ms/step - loss: 0.2723 - accuracy: 0.8750 - val_loss: 0.3155 - val_accuracy: 0.9000\n",
            "Epoch 83/100\n",
            "10/10 [==============================] - 0s 4ms/step - loss: 0.2718 - accuracy: 0.8750 - val_loss: 0.3155 - val_accuracy: 0.9000\n",
            "Epoch 84/100\n",
            "10/10 [==============================] - 0s 4ms/step - loss: 0.2714 - accuracy: 0.8750 - val_loss: 0.3156 - val_accuracy: 0.9000\n",
            "Epoch 85/100\n",
            "10/10 [==============================] - 0s 4ms/step - loss: 0.2709 - accuracy: 0.8750 - val_loss: 0.3156 - val_accuracy: 0.9000\n",
            "Epoch 86/100\n",
            "10/10 [==============================] - 0s 5ms/step - loss: 0.2705 - accuracy: 0.8750 - val_loss: 0.3156 - val_accuracy: 0.9000\n",
            "Epoch 87/100\n",
            "10/10 [==============================] - 0s 4ms/step - loss: 0.2700 - accuracy: 0.8750 - val_loss: 0.3157 - val_accuracy: 0.9000\n",
            "Epoch 88/100\n",
            "10/10 [==============================] - 0s 4ms/step - loss: 0.2695 - accuracy: 0.8750 - val_loss: 0.3157 - val_accuracy: 0.9000\n",
            "Epoch 89/100\n",
            "10/10 [==============================] - 0s 4ms/step - loss: 0.2691 - accuracy: 0.8750 - val_loss: 0.3157 - val_accuracy: 0.9000\n",
            "Epoch 90/100\n",
            "10/10 [==============================] - 0s 4ms/step - loss: 0.2686 - accuracy: 0.8750 - val_loss: 0.3157 - val_accuracy: 0.9000\n",
            "Epoch 91/100\n",
            "10/10 [==============================] - 0s 4ms/step - loss: 0.2682 - accuracy: 0.8750 - val_loss: 0.3158 - val_accuracy: 0.9000\n",
            "Epoch 92/100\n",
            "10/10 [==============================] - 0s 4ms/step - loss: 0.2678 - accuracy: 0.8750 - val_loss: 0.3158 - val_accuracy: 0.9000\n",
            "Epoch 93/100\n",
            "10/10 [==============================] - 0s 5ms/step - loss: 0.2673 - accuracy: 0.8750 - val_loss: 0.3158 - val_accuracy: 0.9000\n",
            "Epoch 94/100\n",
            "10/10 [==============================] - 0s 4ms/step - loss: 0.2669 - accuracy: 0.8750 - val_loss: 0.3158 - val_accuracy: 0.9000\n",
            "Epoch 95/100\n",
            "10/10 [==============================] - 0s 5ms/step - loss: 0.2665 - accuracy: 0.8750 - val_loss: 0.3159 - val_accuracy: 0.9000\n",
            "Epoch 96/100\n",
            "10/10 [==============================] - 0s 5ms/step - loss: 0.2661 - accuracy: 0.8750 - val_loss: 0.3159 - val_accuracy: 0.9000\n",
            "Epoch 97/100\n",
            "10/10 [==============================] - 0s 4ms/step - loss: 0.2657 - accuracy: 0.8750 - val_loss: 0.3159 - val_accuracy: 0.9000\n",
            "Epoch 98/100\n",
            "10/10 [==============================] - 0s 4ms/step - loss: 0.2653 - accuracy: 0.8750 - val_loss: 0.3159 - val_accuracy: 0.9000\n",
            "Epoch 99/100\n",
            "10/10 [==============================] - 0s 4ms/step - loss: 0.2649 - accuracy: 0.8750 - val_loss: 0.3159 - val_accuracy: 0.9000\n",
            "Epoch 100/100\n",
            "10/10 [==============================] - 0s 4ms/step - loss: 0.2645 - accuracy: 0.8750 - val_loss: 0.3159 - val_accuracy: 0.9000\n"
          ],
          "name": "stdout"
        }
      ]
    },
    {
      "cell_type": "code",
      "metadata": {
        "id": "gvnbyj12a_Ix",
        "colab_type": "code",
        "outputId": "64d6daab-9835-49c9-85d0-047515105f75",
        "colab": {
          "base_uri": "https://localhost:8080/",
          "height": 295
        }
      },
      "source": [
        "fix, axes = plt.subplots(1, 2, figsize=(12,4))\n",
        "axes[0].plot(history.history['loss'], label='Training Loss')\n",
        "axes[0].plot(history.history['val_loss'], label='Validation Loss')\n",
        "axes[0].set_title('Model loss')\n",
        "axes[0].set_ylabel('Loss')\n",
        "axes[0].set_xlabel('Epoch')\n",
        "axes[0].legend(loc='upper right')\n",
        "axes[1].plot(history.history['accuracy'], label='Training Accuracy')\n",
        "axes[1].plot(history.history['val_accuracy'], label='Validation Accuracy')\n",
        "axes[1].set_title('Model Accuracy')\n",
        "axes[1].set_ylabel('Accuracy')\n",
        "axes[1].set_xlabel('Epoch')\n",
        "axes[1].legend(loc='lower right')\n",
        "plt.show()"
      ],
      "execution_count": 21,
      "outputs": [
        {
          "output_type": "display_data",
          "data": {
            "image/png": "[encoded data removed]",
            "text/plain": [
              "<Figure size 864x288 with 2 Axes>"
            ]
          },
          "metadata": {
            "tags": [],
            "needs_background": "light"
          }
        }
      ]
    }
  ]
}
