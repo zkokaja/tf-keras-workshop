{
  "nbformat": 4,
  "nbformat_minor": 0,
  "metadata": {
    "colab": {
      "name": "Convolutional Networks and MNIST",
      "provenance": [],
      "toc_visible": true
    },
    "kernelspec": {
      "name": "python3",
      "display_name": "Python 3"
    }
  },
  "cells": [
    {
      "cell_type": "code",
      "metadata": {
        "id": "QsTeb6ZmDJFr",
        "colab_type": "code",
        "colab": {}
      },
      "source": [
        "import gzip\n",
        "import numpy as np\n",
        "import tensorflow as tf\n",
        "import matplotlib.pyplot as plt\n",
        "\n",
        "from sklearn.metrics import classification_report\n",
        "from sklearn.model_selection import train_test_split"
      ],
      "execution_count": 0,
      "outputs": []
    },
    {
      "cell_type": "markdown",
      "metadata": {
        "id": "1nuspPbeLO7u",
        "colab_type": "text"
      },
      "source": [
        "# Data Preparation"
      ]
    },
    {
      "cell_type": "code",
      "metadata": {
        "id": "5ni6X8NvFeZ2",
        "colab_type": "code",
        "outputId": "0770b88b-73db-4089-8ce6-0902a7fa6f63",
        "colab": {
          "base_uri": "https://localhost:8080/",
          "height": 221
        }
      },
      "source": [
        "# http://yann.lecun.com/exdb/mnist/\n",
        "!curl -OL http://yann.lecun.com/exdb/mnist/train-images-idx3-ubyte.gz\n",
        "!curl -OL http://yann.lecun.com/exdb/mnist/train-labels-idx1-ubyte.gz\n",
        "!curl -OL http://yann.lecun.com/exdb/mnist/t10k-images-idx3-ubyte.gz\n",
        "!curl -OL http://yann.lecun.com/exdb/mnist/t10k-labels-idx1-ubyte.gz"
      ],
      "execution_count": 2,
      "outputs": [
        {
          "output_type": "stream",
          "text": [
            "  % Total    % Received % Xferd  Average Speed   Time    Time     Time  Current\n",
            "                                 Dload  Upload   Total   Spent    Left  Speed\n",
            "100 9680k  100 9680k    0     0  34.7M      0 --:--:-- --:--:-- --:--:-- 34.8M\n",
            "  % Total    % Received % Xferd  Average Speed   Time    Time     Time  Current\n",
            "                                 Dload  Upload   Total   Spent    Left  Speed\n",
            "100 28881  100 28881    0     0  67795      0 --:--:-- --:--:-- --:--:-- 67795\n",
            "  % Total    % Received % Xferd  Average Speed   Time    Time     Time  Current\n",
            "                                 Dload  Upload   Total   Spent    Left  Speed\n",
            "100 1610k  100 1610k    0     0  7559k      0 --:--:-- --:--:-- --:--:-- 7559k\n",
            "  % Total    % Received % Xferd  Average Speed   Time    Time     Time  Current\n",
            "                                 Dload  Upload   Total   Spent    Left  Speed\n",
            "100  4542  100  4542    0     0  54071      0 --:--:-- --:--:-- --:--:-- 53435\n"
          ],
          "name": "stdout"
        }
      ]
    },
    {
      "cell_type": "code",
      "metadata": {
        "id": "wgCVnu6uDjlJ",
        "colab_type": "code",
        "colab": {}
      },
      "source": [
        "def get_data(fn):\n",
        "  with gzip.open(fn, 'r') as f:\n",
        "    magic = int.from_bytes(f.read(4), byteorder='big')\n",
        "    n_images = int.from_bytes(f.read(4), byteorder='big')\n",
        "    n_rows = int.from_bytes(f.read(4), byteorder='big')\n",
        "    n_cols = int.from_bytes(f.read(4), byteorder='big')\n",
        "\n",
        "    assert magic == 2051\n",
        "    assert n_rows == n_cols\n",
        "\n",
        "    image_size = n_rows\n",
        "\n",
        "    buf = f.read(image_size * image_size * n_images)\n",
        "    data = np.frombuffer(buf, dtype=np.uint8).astype(np.float32)\n",
        "    data = data.reshape(n_images, image_size, image_size, 1)\n",
        "\n",
        "  return data"
      ],
      "execution_count": 0,
      "outputs": []
    },
    {
      "cell_type": "code",
      "metadata": {
        "id": "1ngoyz_lIXLq",
        "colab_type": "code",
        "colab": {}
      },
      "source": [
        "def get_labels(fn):\n",
        "  with gzip.open(fn, 'r') as f:\n",
        "    magic = int.from_bytes(f.read(4), byteorder='big')\n",
        "    n_labels = int.from_bytes(f.read(4), byteorder='big')\n",
        "\n",
        "    assert magic == 2049\n",
        "\n",
        "    buf = f.read(n_labels)\n",
        "    labels = np.frombuffer(buf, dtype=np.uint8)\n",
        "\n",
        "  return tf.keras.utils.to_categorical(labels)"
      ],
      "execution_count": 0,
      "outputs": []
    },
    {
      "cell_type": "code",
      "metadata": {
        "id": "B1QXKGQTIoYl",
        "colab_type": "code",
        "colab": {}
      },
      "source": [
        "X_train = get_data('train-images-idx3-ubyte.gz')\n",
        "y_train = get_labels('train-labels-idx1-ubyte.gz')\n",
        "X_test = get_data('t10k-images-idx3-ubyte.gz')\n",
        "y_test = get_labels('t10k-labels-idx1-ubyte.gz')"
      ],
      "execution_count": 0,
      "outputs": []
    },
    {
      "cell_type": "code",
      "metadata": {
        "id": "XIXbJV8uEylw",
        "colab_type": "code",
        "colab": {}
      },
      "source": [
        "X_train, X_valid, y_train, y_valid = train_test_split(X_train, y_train, test_size=0.2)"
      ],
      "execution_count": 0,
      "outputs": []
    },
    {
      "cell_type": "code",
      "metadata": {
        "id": "012LXhlQLoBm",
        "colab_type": "code",
        "outputId": "33e9dedf-51cd-4cc2-93fb-c940a3ac571e",
        "colab": {
          "base_uri": "https://localhost:8080/",
          "height": 68
        }
      },
      "source": [
        "print('Training', X_train.shape, y_train.shape)\n",
        "print('Validation', X_valid.shape, y_valid.shape)\n",
        "print('Testing', X_test.shape, y_test.shape)"
      ],
      "execution_count": 10,
      "outputs": [
        {
          "output_type": "stream",
          "text": [
            "Training (48000, 28, 28, 1) (48000, 10)\n",
            "Validation (12000, 28, 28, 1) (12000, 10)\n",
            "Testing (10000, 28, 28, 1) (10000, 10)\n"
          ],
          "name": "stdout"
        }
      ]
    },
    {
      "cell_type": "code",
      "metadata": {
        "id": "XtWn_8F3eThB",
        "colab_type": "code",
        "outputId": "7783c979-ef14-47bc-997a-bcbbf0ecf07f",
        "colab": {
          "base_uri": "https://localhost:8080/",
          "height": 102
        }
      },
      "source": [
        "X_train[2,10:15,10:15,0]"
      ],
      "execution_count": 11,
      "outputs": [
        {
          "output_type": "execute_result",
          "data": {
            "text/plain": [
              "array([[184., 109., 120., 194., 254.],\n",
              "       [232., 224., 213., 102.,  58.],\n",
              "       [ 14.,   4.,  34., 114., 200.],\n",
              "       [156., 210., 254., 211., 132.],\n",
              "       [222., 138.,  46.,   9.,   0.]], dtype=float32)"
            ]
          },
          "metadata": {
            "tags": []
          },
          "execution_count": 11
        }
      ]
    },
    {
      "cell_type": "code",
      "metadata": {
        "id": "hy5MtiyHE6LS",
        "colab_type": "code",
        "outputId": "66a12f41-7c94-44d8-ac76-e9b67d47bb6a",
        "colab": {
          "base_uri": "https://localhost:8080/",
          "height": 354
        }
      },
      "source": [
        "fig, axes = plt.subplots(2,4, figsize=(12,6))\n",
        "for i in range(2):\n",
        "  for j in range(4):\n",
        "    k = np.random.randint(X_train.shape[0])\n",
        "    image = np.asarray(X_train[k]).squeeze()\n",
        "    axes[i,j].imshow(image, cmap='gray')\n",
        "    axes[i,j].axis('off')\n",
        "plt.show()"
      ],
      "execution_count": 12,
      "outputs": [
        {
          "output_type": "display_data",
          "data": {
            "image/png": "[encoded data removed]",
            "text/plain": [
              "<Figure size 864x432 with 8 Axes>"
            ]
          },
          "metadata": {
            "tags": [],
            "needs_background": "light"
          }
        }
      ]
    },
    {
      "cell_type": "markdown",
      "metadata": {
        "id": "7oHre40vKiiZ",
        "colab_type": "text"
      },
      "source": [
        "# Model Definition\n",
        "\n",
        "- https://medium.com/@sh.tsang/paper-brief-review-of-lenet-1-lenet-4-lenet-5-boosted-lenet-4-image-classification-1f5f809dbf17"
      ]
    },
    {
      "cell_type": "code",
      "metadata": {
        "id": "9W9-77JAQq6H",
        "colab_type": "code",
        "colab": {}
      },
      "source": [
        "def lenet1(in_shape, n_classes):\n",
        "  model = tf.keras.Sequential()\n",
        "  model.add(tf.keras.layers.Conv2D(filters=4, kernel_size=5, input_shape=in_shape, activation='tanh'))\n",
        "  model.add(tf.keras.layers.AveragePooling2D(pool_size=(2, 2)))\n",
        "  model.add(tf.keras.layers.Conv2D(filters=8, kernel_size=5, activation='tanh'))\n",
        "  model.add(tf.keras.layers.AveragePooling2D(pool_size=(2, 2)))\n",
        "  model.add(tf.keras.layers.Flatten())\n",
        "  model.add(tf.keras.layers.Dense(n_classes, activation='softmax'))\n",
        "  return model"
      ],
      "execution_count": 0,
      "outputs": []
    },
    {
      "cell_type": "code",
      "metadata": {
        "id": "xcaAs7uyVhyP",
        "colab_type": "code",
        "colab": {}
      },
      "source": [
        "def lenet5(in_shape, n_classes):\n",
        "  model = tf.keras.Sequential()\n",
        "  model.add(tf.keras.layers.Conv2D(filters=6, kernel_size=5, input_shape=in_shape, activation='tanh'))\n",
        "  model.add(tf.keras.layers.AveragePooling2D(pool_size=(2, 2)))\n",
        "  model.add(tf.keras.layers.Conv2D(filters=16, kernel_size=5, activation='tanh'))\n",
        "  model.add(tf.keras.layers.AveragePooling2D(pool_size=(2, 2)))\n",
        "  model.add(tf.keras.layers.Flatten())\n",
        "  model.add(tf.keras.layers.Dense(120, activation='tanh'))\n",
        "  model.add(tf.keras.layers.Dense(84, activation='tanh'))\n",
        "  model.add(tf.keras.layers.Dense(n_classes, activation='softmax'))\n",
        "  return model"
      ],
      "execution_count": 0,
      "outputs": []
    },
    {
      "cell_type": "code",
      "metadata": {
        "id": "1in7iqMSUNyk",
        "colab_type": "code",
        "outputId": "6f32cd8f-1af3-46e6-bee7-4d9195e6dc64",
        "colab": {
          "base_uri": "https://localhost:8080/",
          "height": 425
        }
      },
      "source": [
        "n_classes = 10\n",
        "in_shape = (28,28,1) # channels last\n",
        "model = lenet5(in_shape, n_classes)\n",
        "model.summary()"
      ],
      "execution_count": 17,
      "outputs": [
        {
          "output_type": "stream",
          "text": [
            "Model: \"sequential\"\n",
            "_________________________________________________________________\n",
            "Layer (type)                 Output Shape              Param #   \n",
            "=================================================================\n",
            "conv2d (Conv2D)              (None, 24, 24, 6)         156       \n",
            "_________________________________________________________________\n",
            "average_pooling2d (AveragePo (None, 12, 12, 6)         0         \n",
            "_________________________________________________________________\n",
            "conv2d_1 (Conv2D)            (None, 8, 8, 16)          2416      \n",
            "_________________________________________________________________\n",
            "average_pooling2d_1 (Average (None, 4, 4, 16)          0         \n",
            "_________________________________________________________________\n",
            "flatten (Flatten)            (None, 256)               0         \n",
            "_________________________________________________________________\n",
            "dense (Dense)                (None, 120)               30840     \n",
            "_________________________________________________________________\n",
            "dense_1 (Dense)              (None, 84)                10164     \n",
            "_________________________________________________________________\n",
            "dense_2 (Dense)              (None, 10)                850       \n",
            "=================================================================\n",
            "Total params: 44,426\n",
            "Trainable params: 44,426\n",
            "Non-trainable params: 0\n",
            "_________________________________________________________________\n"
          ],
          "name": "stdout"
        }
      ]
    },
    {
      "cell_type": "code",
      "metadata": {
        "id": "OmG8W3piMTXG",
        "colab_type": "code",
        "colab": {}
      },
      "source": [
        "model.compile(optimizer='sgd', \n",
        "              loss='categorical_crossentropy',\n",
        "              metrics=['accuracy'])"
      ],
      "execution_count": 0,
      "outputs": []
    },
    {
      "cell_type": "markdown",
      "metadata": {
        "id": "TT0GYlCDKRZo",
        "colab_type": "text"
      },
      "source": [
        "# Training"
      ]
    },
    {
      "cell_type": "code",
      "metadata": {
        "id": "GwPn0pD2MMQn",
        "colab_type": "code",
        "colab": {}
      },
      "source": [
        "batch_size = 32\n",
        "epochs = 100"
      ],
      "execution_count": 0,
      "outputs": []
    },
    {
      "cell_type": "code",
      "metadata": {
        "id": "ul7lhqGyKQQV",
        "colab_type": "code",
        "colab": {}
      },
      "source": [
        "# See https://keras.io/preprocessing/image/\n",
        "datagen = tf.keras.preprocessing.image.ImageDataGenerator(\n",
        "    featurewise_center=True,\n",
        "    featurewise_std_normalization=True,\n",
        "    rotation_range=20,\n",
        "    width_shift_range=0.2,\n",
        "    height_shift_range=0.2,\n",
        "    horizontal_flip=True)\n",
        "\n",
        "# compute quantities required for featurewise normalization\n",
        "# (std, mean, and principal components if ZCA whitening is applied)\n",
        "datagen.fit(X_train)"
      ],
      "execution_count": 0,
      "outputs": []
    },
    {
      "cell_type": "code",
      "metadata": {
        "id": "-Je1LEwOPtZl",
        "colab_type": "code",
        "colab": {}
      },
      "source": [
        "X_valid = (X_valid - datagen.mean[0]) / datagen.std[0]\n",
        "Xtest = (X_test - datagen.mean[0]) / datagen.std[0]"
      ],
      "execution_count": 0,
      "outputs": []
    },
    {
      "cell_type": "code",
      "metadata": {
        "id": "ZFhvCAGgb3My",
        "colab_type": "code",
        "colab": {}
      },
      "source": [
        "Xtest = (X_test - datagen.mean[0]) / datagen.std[0]"
      ],
      "execution_count": 0,
      "outputs": []
    },
    {
      "cell_type": "code",
      "metadata": {
        "id": "t_1zaUIGMI3v",
        "colab_type": "code",
        "outputId": "81ba257f-1a9c-4c82-9547-2aa1e9305c05",
        "colab": {
          "base_uri": "https://localhost:8080/",
          "height": 1000
        }
      },
      "source": [
        "# fits the model on batches with real-time data augmentation:\n",
        "\n",
        "generator = datagen.flow(X_train, y_train, batch_size=batch_size)\n",
        "history = model.fit_generator(generator,\n",
        "                              steps_per_epoch=len(X_train) / batch_size, \n",
        "                              validation_data=(X_valid,y_valid),\n",
        "                              epochs=epochs)"
      ],
      "execution_count": 24,
      "outputs": [
        {
          "output_type": "stream",
          "text": [
            "WARNING:tensorflow:From <ipython-input-24-b437de4aa24f>:6: Model.fit_generator (from tensorflow.python.keras.engine.training) is deprecated and will be removed in a future version.\n",
            "Instructions for updating:\n",
            "Please use Model.fit, which supports generators.\n",
            "Epoch 1/100\n",
            "1500/1500 [==============================] - 33s 22ms/step - loss: 1.8087 - accuracy: 0.3524 - val_loss: 1.1275 - val_accuracy: 0.6420\n",
            "Epoch 2/100\n",
            "1500/1500 [==============================] - 34s 23ms/step - loss: 1.1255 - accuracy: 0.6281 - val_loss: 0.7274 - val_accuracy: 0.7781\n",
            "Epoch 3/100\n",
            "1500/1500 [==============================] - 33s 22ms/step - loss: 0.8194 - accuracy: 0.7336 - val_loss: 0.5113 - val_accuracy: 0.8528\n",
            "Epoch 4/100\n",
            "1500/1500 [==============================] - 33s 22ms/step - loss: 0.6857 - accuracy: 0.7749 - val_loss: 0.4161 - val_accuracy: 0.8732\n",
            "Epoch 5/100\n",
            "1500/1500 [==============================] - 34s 22ms/step - loss: 0.5939 - accuracy: 0.8081 - val_loss: 0.4020 - val_accuracy: 0.8733\n",
            "Epoch 6/100\n",
            "1500/1500 [==============================] - 34s 23ms/step - loss: 0.5359 - accuracy: 0.8239 - val_loss: 0.3376 - val_accuracy: 0.8961\n",
            "Epoch 7/100\n",
            "1500/1500 [==============================] - 35s 23ms/step - loss: 0.4919 - accuracy: 0.8403 - val_loss: 0.3037 - val_accuracy: 0.9003\n",
            "Epoch 8/100\n",
            "1500/1500 [==============================] - 34s 23ms/step - loss: 0.4566 - accuracy: 0.8515 - val_loss: 0.2770 - val_accuracy: 0.9105\n",
            "Epoch 9/100\n",
            "1500/1500 [==============================] - 34s 23ms/step - loss: 0.4248 - accuracy: 0.8635 - val_loss: 0.2592 - val_accuracy: 0.9198\n",
            "Epoch 10/100\n",
            "1500/1500 [==============================] - 34s 23ms/step - loss: 0.3976 - accuracy: 0.8717 - val_loss: 0.2451 - val_accuracy: 0.9273\n",
            "Epoch 11/100\n",
            "1500/1500 [==============================] - 34s 23ms/step - loss: 0.3789 - accuracy: 0.8797 - val_loss: 0.2328 - val_accuracy: 0.9277\n",
            "Epoch 12/100\n",
            "1500/1500 [==============================] - 34s 23ms/step - loss: 0.3597 - accuracy: 0.8866 - val_loss: 0.2063 - val_accuracy: 0.9374\n",
            "Epoch 13/100\n",
            "1500/1500 [==============================] - 34s 23ms/step - loss: 0.3456 - accuracy: 0.8892 - val_loss: 0.2002 - val_accuracy: 0.9393\n",
            "Epoch 14/100\n",
            "1500/1500 [==============================] - 34s 23ms/step - loss: 0.3315 - accuracy: 0.8950 - val_loss: 0.1816 - val_accuracy: 0.9463\n",
            "Epoch 15/100\n",
            "1500/1500 [==============================] - 34s 23ms/step - loss: 0.3180 - accuracy: 0.8980 - val_loss: 0.1831 - val_accuracy: 0.9428\n",
            "Epoch 16/100\n",
            "1500/1500 [==============================] - 34s 23ms/step - loss: 0.3090 - accuracy: 0.9019 - val_loss: 0.1685 - val_accuracy: 0.9503\n",
            "Epoch 17/100\n",
            "1500/1500 [==============================] - 34s 23ms/step - loss: 0.2976 - accuracy: 0.9074 - val_loss: 0.1584 - val_accuracy: 0.9541\n",
            "Epoch 18/100\n",
            "1500/1500 [==============================] - 34s 23ms/step - loss: 0.2892 - accuracy: 0.9072 - val_loss: 0.1641 - val_accuracy: 0.9512\n",
            "Epoch 19/100\n",
            "1500/1500 [==============================] - 34s 23ms/step - loss: 0.2823 - accuracy: 0.9121 - val_loss: 0.1518 - val_accuracy: 0.9538\n",
            "Epoch 20/100\n",
            "1500/1500 [==============================] - 35s 23ms/step - loss: 0.2762 - accuracy: 0.9121 - val_loss: 0.1588 - val_accuracy: 0.9515\n",
            "Epoch 21/100\n",
            "1500/1500 [==============================] - 34s 23ms/step - loss: 0.2698 - accuracy: 0.9137 - val_loss: 0.1509 - val_accuracy: 0.9530\n",
            "Epoch 22/100\n",
            "1500/1500 [==============================] - 34s 23ms/step - loss: 0.2639 - accuracy: 0.9162 - val_loss: 0.1477 - val_accuracy: 0.9548\n",
            "Epoch 23/100\n",
            "1500/1500 [==============================] - 34s 23ms/step - loss: 0.2586 - accuracy: 0.9181 - val_loss: 0.1444 - val_accuracy: 0.9560\n",
            "Epoch 24/100\n",
            "1500/1500 [==============================] - 34s 23ms/step - loss: 0.2582 - accuracy: 0.9177 - val_loss: 0.1316 - val_accuracy: 0.9601\n",
            "Epoch 25/100\n",
            "1500/1500 [==============================] - 34s 23ms/step - loss: 0.2490 - accuracy: 0.9211 - val_loss: 0.1431 - val_accuracy: 0.9569\n",
            "Epoch 26/100\n",
            "1500/1500 [==============================] - 34s 23ms/step - loss: 0.2456 - accuracy: 0.9220 - val_loss: 0.1391 - val_accuracy: 0.9574\n",
            "Epoch 27/100\n",
            "1500/1500 [==============================] - 35s 23ms/step - loss: 0.2409 - accuracy: 0.9233 - val_loss: 0.1378 - val_accuracy: 0.9570\n",
            "Epoch 28/100\n",
            "1500/1500 [==============================] - 35s 23ms/step - loss: 0.2337 - accuracy: 0.9263 - val_loss: 0.1419 - val_accuracy: 0.9558\n",
            "Epoch 29/100\n",
            "1500/1500 [==============================] - 35s 23ms/step - loss: 0.2359 - accuracy: 0.9249 - val_loss: 0.1273 - val_accuracy: 0.9616\n",
            "Epoch 30/100\n",
            "1500/1500 [==============================] - 34s 23ms/step - loss: 0.2310 - accuracy: 0.9269 - val_loss: 0.1279 - val_accuracy: 0.9610\n",
            "Epoch 31/100\n",
            "1500/1500 [==============================] - 35s 23ms/step - loss: 0.2276 - accuracy: 0.9277 - val_loss: 0.1227 - val_accuracy: 0.9606\n",
            "Epoch 32/100\n",
            "1500/1500 [==============================] - 35s 23ms/step - loss: 0.2285 - accuracy: 0.9281 - val_loss: 0.1277 - val_accuracy: 0.9594\n",
            "Epoch 33/100\n",
            "1500/1500 [==============================] - 34s 23ms/step - loss: 0.2223 - accuracy: 0.9296 - val_loss: 0.1366 - val_accuracy: 0.9572\n",
            "Epoch 34/100\n",
            "1500/1500 [==============================] - 35s 23ms/step - loss: 0.2211 - accuracy: 0.9300 - val_loss: 0.1179 - val_accuracy: 0.9625\n",
            "Epoch 35/100\n",
            "1500/1500 [==============================] - 34s 23ms/step - loss: 0.2103 - accuracy: 0.9337 - val_loss: 0.1183 - val_accuracy: 0.9645\n",
            "Epoch 36/100\n",
            "1500/1500 [==============================] - 34s 23ms/step - loss: 0.2143 - accuracy: 0.9315 - val_loss: 0.1166 - val_accuracy: 0.9645\n",
            "Epoch 37/100\n",
            "1500/1500 [==============================] - 34s 23ms/step - loss: 0.2097 - accuracy: 0.9330 - val_loss: 0.1189 - val_accuracy: 0.9632\n",
            "Epoch 38/100\n",
            "1500/1500 [==============================] - 34s 23ms/step - loss: 0.2118 - accuracy: 0.9332 - val_loss: 0.1152 - val_accuracy: 0.9644\n",
            "Epoch 39/100\n",
            "1500/1500 [==============================] - 34s 23ms/step - loss: 0.2041 - accuracy: 0.9335 - val_loss: 0.1158 - val_accuracy: 0.9641\n",
            "Epoch 40/100\n",
            "1500/1500 [==============================] - 34s 23ms/step - loss: 0.2055 - accuracy: 0.9337 - val_loss: 0.1259 - val_accuracy: 0.9612\n",
            "Epoch 41/100\n",
            "1500/1500 [==============================] - 34s 23ms/step - loss: 0.2026 - accuracy: 0.9359 - val_loss: 0.1071 - val_accuracy: 0.9660\n",
            "Epoch 42/100\n",
            "1500/1500 [==============================] - 34s 23ms/step - loss: 0.2003 - accuracy: 0.9364 - val_loss: 0.1121 - val_accuracy: 0.9647\n",
            "Epoch 43/100\n",
            "1500/1500 [==============================] - 34s 23ms/step - loss: 0.1974 - accuracy: 0.9377 - val_loss: 0.1171 - val_accuracy: 0.9624\n",
            "Epoch 44/100\n",
            "1500/1500 [==============================] - 35s 23ms/step - loss: 0.1929 - accuracy: 0.9372 - val_loss: 0.1085 - val_accuracy: 0.9659\n",
            "Epoch 45/100\n",
            "1500/1500 [==============================] - 34s 23ms/step - loss: 0.1954 - accuracy: 0.9381 - val_loss: 0.1126 - val_accuracy: 0.9655\n",
            "Epoch 46/100\n",
            "1500/1500 [==============================] - 35s 23ms/step - loss: 0.1948 - accuracy: 0.9379 - val_loss: 0.1119 - val_accuracy: 0.9640\n",
            "Epoch 47/100\n",
            "1500/1500 [==============================] - 35s 23ms/step - loss: 0.1921 - accuracy: 0.9390 - val_loss: 0.1073 - val_accuracy: 0.9675\n",
            "Epoch 48/100\n",
            "1500/1500 [==============================] - 35s 23ms/step - loss: 0.1884 - accuracy: 0.9415 - val_loss: 0.1051 - val_accuracy: 0.9669\n",
            "Epoch 49/100\n",
            "1500/1500 [==============================] - 35s 23ms/step - loss: 0.1840 - accuracy: 0.9414 - val_loss: 0.1051 - val_accuracy: 0.9659\n",
            "Epoch 50/100\n",
            "1500/1500 [==============================] - 34s 23ms/step - loss: 0.1810 - accuracy: 0.9417 - val_loss: 0.1034 - val_accuracy: 0.9669\n",
            "Epoch 51/100\n",
            "1500/1500 [==============================] - 34s 23ms/step - loss: 0.1862 - accuracy: 0.9409 - val_loss: 0.1125 - val_accuracy: 0.9633\n",
            "Epoch 52/100\n",
            "1500/1500 [==============================] - 34s 23ms/step - loss: 0.1815 - accuracy: 0.9416 - val_loss: 0.1081 - val_accuracy: 0.9665\n",
            "Epoch 53/100\n",
            "1500/1500 [==============================] - 34s 23ms/step - loss: 0.1850 - accuracy: 0.9411 - val_loss: 0.0997 - val_accuracy: 0.9679\n",
            "Epoch 54/100\n",
            "1500/1500 [==============================] - 35s 23ms/step - loss: 0.1825 - accuracy: 0.9423 - val_loss: 0.1094 - val_accuracy: 0.9663\n",
            "Epoch 55/100\n",
            "1500/1500 [==============================] - 35s 23ms/step - loss: 0.1857 - accuracy: 0.9417 - val_loss: 0.1037 - val_accuracy: 0.9670\n",
            "Epoch 56/100\n",
            "1500/1500 [==============================] - 35s 23ms/step - loss: 0.1788 - accuracy: 0.9418 - val_loss: 0.1048 - val_accuracy: 0.9667\n",
            "Epoch 57/100\n",
            "1500/1500 [==============================] - 34s 23ms/step - loss: 0.1763 - accuracy: 0.9441 - val_loss: 0.1068 - val_accuracy: 0.9668\n",
            "Epoch 58/100\n",
            "1500/1500 [==============================] - 34s 23ms/step - loss: 0.1769 - accuracy: 0.9436 - val_loss: 0.0927 - val_accuracy: 0.9714\n",
            "Epoch 59/100\n",
            "1500/1500 [==============================] - 34s 23ms/step - loss: 0.1781 - accuracy: 0.9437 - val_loss: 0.1007 - val_accuracy: 0.9686\n",
            "Epoch 60/100\n",
            "1500/1500 [==============================] - 39s 26ms/step - loss: 0.1725 - accuracy: 0.9452 - val_loss: 0.1064 - val_accuracy: 0.9657\n",
            "Epoch 61/100\n",
            "1500/1500 [==============================] - 34s 23ms/step - loss: 0.1741 - accuracy: 0.9445 - val_loss: 0.0970 - val_accuracy: 0.9702\n",
            "Epoch 62/100\n",
            "1500/1500 [==============================] - 34s 23ms/step - loss: 0.1723 - accuracy: 0.9456 - val_loss: 0.0968 - val_accuracy: 0.9697\n",
            "Epoch 63/100\n",
            "1500/1500 [==============================] - 34s 23ms/step - loss: 0.1688 - accuracy: 0.9463 - val_loss: 0.0927 - val_accuracy: 0.9712\n",
            "Epoch 64/100\n",
            "1500/1500 [==============================] - 34s 23ms/step - loss: 0.1720 - accuracy: 0.9454 - val_loss: 0.0996 - val_accuracy: 0.9683\n",
            "Epoch 65/100\n",
            "1500/1500 [==============================] - 34s 23ms/step - loss: 0.1663 - accuracy: 0.9455 - val_loss: 0.0947 - val_accuracy: 0.9707\n",
            "Epoch 66/100\n",
            "1500/1500 [==============================] - 34s 23ms/step - loss: 0.1712 - accuracy: 0.9454 - val_loss: 0.1035 - val_accuracy: 0.9678\n",
            "Epoch 67/100\n",
            "1500/1500 [==============================] - 34s 23ms/step - loss: 0.1644 - accuracy: 0.9470 - val_loss: 0.1016 - val_accuracy: 0.9690\n",
            "Epoch 68/100\n",
            "1500/1500 [==============================] - 34s 23ms/step - loss: 0.1659 - accuracy: 0.9481 - val_loss: 0.1089 - val_accuracy: 0.9648\n",
            "Epoch 69/100\n",
            "1500/1500 [==============================] - 35s 23ms/step - loss: 0.1665 - accuracy: 0.9469 - val_loss: 0.0978 - val_accuracy: 0.9697\n",
            "Epoch 70/100\n",
            "1500/1500 [==============================] - 35s 23ms/step - loss: 0.1668 - accuracy: 0.9470 - val_loss: 0.0986 - val_accuracy: 0.9693\n",
            "Epoch 71/100\n",
            "1500/1500 [==============================] - 35s 23ms/step - loss: 0.1631 - accuracy: 0.9487 - val_loss: 0.0936 - val_accuracy: 0.9694\n",
            "Epoch 72/100\n",
            "1500/1500 [==============================] - 34s 23ms/step - loss: 0.1633 - accuracy: 0.9481 - val_loss: 0.0986 - val_accuracy: 0.9682\n",
            "Epoch 73/100\n",
            "1500/1500 [==============================] - 35s 23ms/step - loss: 0.1621 - accuracy: 0.9485 - val_loss: 0.0925 - val_accuracy: 0.9722\n",
            "Epoch 74/100\n",
            "1500/1500 [==============================] - 35s 23ms/step - loss: 0.1619 - accuracy: 0.9483 - val_loss: 0.1036 - val_accuracy: 0.9680\n",
            "Epoch 75/100\n",
            "1500/1500 [==============================] - 35s 23ms/step - loss: 0.1609 - accuracy: 0.9488 - val_loss: 0.0903 - val_accuracy: 0.9724\n",
            "Epoch 76/100\n",
            "1500/1500 [==============================] - 34s 23ms/step - loss: 0.1627 - accuracy: 0.9481 - val_loss: 0.0941 - val_accuracy: 0.9707\n",
            "Epoch 77/100\n",
            "1500/1500 [==============================] - 35s 23ms/step - loss: 0.1590 - accuracy: 0.9500 - val_loss: 0.0880 - val_accuracy: 0.9717\n",
            "Epoch 78/100\n",
            "1500/1500 [==============================] - 40s 27ms/step - loss: 0.1567 - accuracy: 0.9501 - val_loss: 0.0919 - val_accuracy: 0.9697\n",
            "Epoch 79/100\n",
            "1500/1500 [==============================] - 35s 23ms/step - loss: 0.1607 - accuracy: 0.9488 - val_loss: 0.0866 - val_accuracy: 0.9736\n",
            "Epoch 80/100\n",
            "1500/1500 [==============================] - 34s 23ms/step - loss: 0.1585 - accuracy: 0.9489 - val_loss: 0.0867 - val_accuracy: 0.9729\n",
            "Epoch 81/100\n",
            "1500/1500 [==============================] - 35s 23ms/step - loss: 0.1572 - accuracy: 0.9503 - val_loss: 0.0848 - val_accuracy: 0.9738\n",
            "Epoch 82/100\n",
            "1500/1500 [==============================] - 35s 23ms/step - loss: 0.1565 - accuracy: 0.9509 - val_loss: 0.0935 - val_accuracy: 0.9705\n",
            "Epoch 83/100\n",
            "1500/1500 [==============================] - 35s 23ms/step - loss: 0.1513 - accuracy: 0.9513 - val_loss: 0.0961 - val_accuracy: 0.9695\n",
            "Epoch 84/100\n",
            "1500/1500 [==============================] - 35s 23ms/step - loss: 0.1549 - accuracy: 0.9505 - val_loss: 0.0911 - val_accuracy: 0.9722\n",
            "Epoch 85/100\n",
            "1500/1500 [==============================] - 34s 23ms/step - loss: 0.1519 - accuracy: 0.9518 - val_loss: 0.0856 - val_accuracy: 0.9731\n",
            "Epoch 86/100\n",
            "1500/1500 [==============================] - 35s 23ms/step - loss: 0.1543 - accuracy: 0.9514 - val_loss: 0.0920 - val_accuracy: 0.9720\n",
            "Epoch 87/100\n",
            "1500/1500 [==============================] - 34s 23ms/step - loss: 0.1521 - accuracy: 0.9515 - val_loss: 0.0852 - val_accuracy: 0.9732\n",
            "Epoch 88/100\n",
            "1500/1500 [==============================] - 34s 23ms/step - loss: 0.1508 - accuracy: 0.9510 - val_loss: 0.0894 - val_accuracy: 0.9724\n",
            "Epoch 89/100\n",
            "1500/1500 [==============================] - 34s 23ms/step - loss: 0.1514 - accuracy: 0.9521 - val_loss: 0.0903 - val_accuracy: 0.9718\n",
            "Epoch 90/100\n",
            "1500/1500 [==============================] - 34s 23ms/step - loss: 0.1521 - accuracy: 0.9509 - val_loss: 0.0877 - val_accuracy: 0.9732\n",
            "Epoch 91/100\n",
            "1500/1500 [==============================] - 34s 23ms/step - loss: 0.1518 - accuracy: 0.9512 - val_loss: 0.0828 - val_accuracy: 0.9733\n",
            "Epoch 92/100\n",
            "1500/1500 [==============================] - 34s 23ms/step - loss: 0.1503 - accuracy: 0.9520 - val_loss: 0.0869 - val_accuracy: 0.9728\n",
            "Epoch 93/100\n",
            "1500/1500 [==============================] - 34s 23ms/step - loss: 0.1466 - accuracy: 0.9532 - val_loss: 0.0905 - val_accuracy: 0.9716\n",
            "Epoch 94/100\n",
            "1500/1500 [==============================] - 34s 23ms/step - loss: 0.1521 - accuracy: 0.9516 - val_loss: 0.0874 - val_accuracy: 0.9726\n",
            "Epoch 95/100\n",
            "1500/1500 [==============================] - 34s 23ms/step - loss: 0.1495 - accuracy: 0.9524 - val_loss: 0.0938 - val_accuracy: 0.9712\n",
            "Epoch 96/100\n",
            "1500/1500 [==============================] - 34s 23ms/step - loss: 0.1461 - accuracy: 0.9531 - val_loss: 0.0830 - val_accuracy: 0.9742\n",
            "Epoch 97/100\n",
            "1500/1500 [==============================] - 34s 23ms/step - loss: 0.1484 - accuracy: 0.9525 - val_loss: 0.0900 - val_accuracy: 0.9710\n",
            "Epoch 98/100\n",
            "1500/1500 [==============================] - 35s 23ms/step - loss: 0.1451 - accuracy: 0.9542 - val_loss: 0.0869 - val_accuracy: 0.9717\n",
            "Epoch 99/100\n",
            "1500/1500 [==============================] - 35s 23ms/step - loss: 0.1467 - accuracy: 0.9524 - val_loss: 0.0838 - val_accuracy: 0.9741\n",
            "Epoch 100/100\n",
            "1500/1500 [==============================] - 35s 23ms/step - loss: 0.1429 - accuracy: 0.9541 - val_loss: 0.0885 - val_accuracy: 0.9731\n"
          ],
          "name": "stdout"
        }
      ]
    },
    {
      "cell_type": "code",
      "metadata": {
        "id": "5HJZSVo7UnpV",
        "colab_type": "code",
        "outputId": "a1b4ddc8-7ca0-49df-f2b5-ebeebc52ad5a",
        "colab": {
          "base_uri": "https://localhost:8080/",
          "height": 295
        }
      },
      "source": [
        "fix, axes = plt.subplots(1, 2, figsize=(12,4))\n",
        "axes[0].plot(history.history['loss'], label='Training Loss')\n",
        "axes[0].plot(history.history['val_loss'], label='Validation Loss')\n",
        "axes[0].set_title('Model loss')\n",
        "axes[0].set_ylabel('Loss')\n",
        "axes[0].set_xlabel('Epoch')\n",
        "axes[0].legend(loc='upper right')\n",
        "axes[1].plot(history.history['accuracy'], label='Training Accuracy')\n",
        "axes[1].plot(history.history['val_accuracy'], label='Validation Accuracy')\n",
        "axes[1].set_title('Model Accuracy')\n",
        "axes[1].set_ylabel('Accuracy')\n",
        "axes[1].set_xlabel('Epoch')\n",
        "axes[1].legend(loc='lower right')\n",
        "plt.show()"
      ],
      "execution_count": 27,
      "outputs": [
        {
          "output_type": "display_data",
          "data": {
            "image/png": "[encoded data removed]",
            "text/plain": [
              "<Figure size 864x288 with 2 Axes>"
            ]
          },
          "metadata": {
            "tags": [],
            "needs_background": "light"
          }
        }
      ]
    },
    {
      "cell_type": "markdown",
      "metadata": {
        "id": "1uMTrphaNzs5",
        "colab_type": "text"
      },
      "source": [
        "# Evaluation"
      ]
    },
    {
      "cell_type": "code",
      "metadata": {
        "id": "1GH6VbqcS4nu",
        "colab_type": "code",
        "outputId": "d1eb6687-eedb-480f-e0c7-c0f8fcecc191",
        "colab": {
          "base_uri": "https://localhost:8080/",
          "height": 51
        }
      },
      "source": [
        "loss, accuracy = model.evaluate(Xtest, y_test)\n",
        "print('Accuracy is: %.2f%%' % (accuracy*100))"
      ],
      "execution_count": 28,
      "outputs": [
        {
          "output_type": "stream",
          "text": [
            "313/313 [==============================] - 2s 7ms/step - loss: 0.0852 - accuracy: 0.9731\n",
            "Accuracy is: 97.31%\n"
          ],
          "name": "stdout"
        }
      ]
    },
    {
      "cell_type": "code",
      "metadata": {
        "id": "RMihevKsNzSa",
        "colab_type": "code",
        "outputId": "debc8776-bbff-414e-8a2c-3f6d3a96b650",
        "colab": {
          "base_uri": "https://localhost:8080/",
          "height": 34
        }
      },
      "source": [
        "predictions = model.predict(Xtest) # (N,n_classes)\n",
        "pred_labels = predictions.argmax(axis=1) # (N,)\n",
        "\n",
        "_, true_labels = np.nonzero(y_test)\n",
        "accuracy = 100 * (pred_labels == true_labels).sum() / pred_labels.size\n",
        "print('Accuracy is: %.2f%%' % accuracy)"
      ],
      "execution_count": 29,
      "outputs": [
        {
          "output_type": "stream",
          "text": [
            "Accuracy is: 97.31%\n"
          ],
          "name": "stdout"
        }
      ]
    },
    {
      "cell_type": "code",
      "metadata": {
        "id": "PWAWLyt0RiKy",
        "colab_type": "code",
        "outputId": "3a364b7c-b731-4f3c-b898-81f339e8ab3d",
        "colab": {
          "base_uri": "https://localhost:8080/",
          "height": 306
        }
      },
      "source": [
        "print(classification_report(true_labels, pred_labels))"
      ],
      "execution_count": 30,
      "outputs": [
        {
          "output_type": "stream",
          "text": [
            "              precision    recall  f1-score   support\n",
            "\n",
            "           0       0.99      0.99      0.99       980\n",
            "           1       1.00      1.00      1.00      1135\n",
            "           2       0.94      0.94      0.94      1032\n",
            "           3       0.99      0.95      0.97      1010\n",
            "           4       0.98      0.98      0.98       982\n",
            "           5       0.90      0.98      0.94       892\n",
            "           6       0.98      0.97      0.97       958\n",
            "           7       0.98      0.98      0.98      1028\n",
            "           8       0.99      0.98      0.98       974\n",
            "           9       0.99      0.96      0.97      1009\n",
            "\n",
            "    accuracy                           0.97     10000\n",
            "   macro avg       0.97      0.97      0.97     10000\n",
            "weighted avg       0.97      0.97      0.97     10000\n",
            "\n"
          ],
          "name": "stdout"
        }
      ]
    },
    {
      "cell_type": "markdown",
      "metadata": {
        "id": "e58-v0k-KAO8",
        "colab_type": "text"
      },
      "source": [
        "# Feature Visualization"
      ]
    },
    {
      "cell_type": "code",
      "metadata": {
        "id": "47EkSsKmKCHL",
        "colab_type": "code",
        "outputId": "5d3b67e2-6549-4f21-99cf-8018883689ef",
        "colab": {
          "base_uri": "https://localhost:8080/",
          "height": 265
        }
      },
      "source": [
        "input_image = X_test[0]\n",
        "plt.imshow(input_image.squeeze(), cmap='gray')\n",
        "plt.show()"
      ],
      "execution_count": 31,
      "outputs": [
        {
          "output_type": "display_data",
          "data": {
            "image/png": "[encoded data removed]",
            "text/plain": [
              "<Figure size 432x288 with 1 Axes>"
            ]
          },
          "metadata": {
            "tags": [],
            "needs_background": "light"
          }
        }
      ]
    },
    {
      "cell_type": "code",
      "metadata": {
        "id": "BMvKN_WwMCuv",
        "colab_type": "code",
        "outputId": "ede0018c-e268-4ede-e311-543e68e87688",
        "colab": {
          "base_uri": "https://localhost:8080/",
          "height": 417
        }
      },
      "source": [
        "in_img = tf.constant(input_image[np.newaxis,...])\n",
        "conv1 = model.layers[0]\n",
        "tf_out = conv1(in_img)\n",
        "out1 = tf_out.numpy().squeeze()\n",
        "\n",
        "fig, axes = plt.subplots(2,3, figsize=(12,6))\n",
        "for i in range(2):\n",
        "  for j in range(3):\n",
        "    k = i * 2 + j\n",
        "    axes[i,j].imshow(out1[...,k], cmap='gray')\n",
        "    #axes[i,j].axis('off')\n",
        "fig.suptitle('Activation Maps, First Layer')\n",
        "plt.show()"
      ],
      "execution_count": 34,
      "outputs": [
        {
          "output_type": "display_data",
          "data": {
            "image/png": "[encoded data removed]",
            "text/plain": [
              "<Figure size 864x432 with 6 Axes>"
            ]
          },
          "metadata": {
            "tags": [],
            "needs_background": "light"
          }
        }
      ]
    },
    {
      "cell_type": "code",
      "metadata": {
        "id": "7kNHs0dAM61U",
        "colab_type": "code",
        "outputId": "daadbf23-7b40-4106-88b2-9a7f3cc016f4",
        "colab": {
          "base_uri": "https://localhost:8080/",
          "height": 540
        }
      },
      "source": [
        "conv2 = model.layers[2]\n",
        "out2 = conv2(tf_out).numpy().squeeze()\n",
        "fig, axes = plt.subplots(4,4, figsize=(10,8))\n",
        "for i in range(4):\n",
        "  for j in range(4):\n",
        "    k = i * 4 + j\n",
        "    axes[i,j].imshow(out2[...,k], cmap='gray')\n",
        "    #axes[i,j].axis('off')\n",
        "fig.suptitle('Activation Maps, Second Layer')\n",
        "plt.show()"
      ],
      "execution_count": 35,
      "outputs": [
        {
          "output_type": "display_data",
          "data": {
            "image/png": "[encoded data removed]",
            "text/plain": [
              "<Figure size 720x576 with 16 Axes>"
            ]
          },
          "metadata": {
            "tags": [],
            "needs_background": "light"
          }
        }
      ]
    }
  ]
}