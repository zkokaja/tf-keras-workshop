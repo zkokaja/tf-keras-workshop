{
  "nbformat": 4,
  "nbformat_minor": 0,
  "metadata": {
    "colab": {
      "name": "Autoencoders",
      "provenance": [],
      "toc_visible": true
    },
    "kernelspec": {
      "name": "python3",
      "display_name": "Python 3"
    }
  },
  "cells": [
    {
      "cell_type": "code",
      "metadata": {
        "id": "HM27b-lYJEEJ",
        "colab_type": "code",
        "colab": {}
      },
      "source": [
        "import numpy as np\n",
        "import tensorflow as tf\n",
        "import matplotlib.pyplot as plt"
      ],
      "execution_count": 0,
      "outputs": []
    },
    {
      "cell_type": "markdown",
      "metadata": {
        "id": "lTC8CVV01nNb",
        "colab_type": "text"
      },
      "source": [
        "# Sequential vs Functional"
      ]
    },
    {
      "cell_type": "code",
      "metadata": {
        "id": "z4U318MXzfTJ",
        "colab_type": "code",
        "outputId": "112e473a-0f87-4127-824d-101f4614e18f",
        "colab": {
          "base_uri": "https://localhost:8080/",
          "height": 357
        }
      },
      "source": [
        "model = tf.keras.Sequential()\n",
        "model.add(tf.keras.layers.Conv2D(16, 3, activation='relu', input_shape=(28,28,1)))\n",
        "model.add(tf.keras.layers.MaxPooling2D(2))\n",
        "model.add(tf.keras.layers.Conv2D(8, 3, activation='relu'))\n",
        "model.add(tf.keras.layers.MaxPooling2D(2))\n",
        "model.add(tf.keras.layers.Conv2D(8, 3, activation='relu'))\n",
        "model.add(tf.keras.layers.Conv2D(1, 3, activation='sigmoid'))\n",
        "model.summary()"
      ],
      "execution_count": 2,
      "outputs": [
        {
          "output_type": "stream",
          "text": [
            "Model: \"sequential\"\n",
            "_________________________________________________________________\n",
            "Layer (type)                 Output Shape              Param #   \n",
            "=================================================================\n",
            "conv2d (Conv2D)              (None, 26, 26, 16)        160       \n",
            "_________________________________________________________________\n",
            "max_pooling2d (MaxPooling2D) (None, 13, 13, 16)        0         \n",
            "_________________________________________________________________\n",
            "conv2d_1 (Conv2D)            (None, 11, 11, 8)         1160      \n",
            "_________________________________________________________________\n",
            "max_pooling2d_1 (MaxPooling2 (None, 5, 5, 8)           0         \n",
            "_________________________________________________________________\n",
            "conv2d_2 (Conv2D)            (None, 3, 3, 8)           584       \n",
            "_________________________________________________________________\n",
            "conv2d_3 (Conv2D)            (None, 1, 1, 1)           73        \n",
            "=================================================================\n",
            "Total params: 1,977\n",
            "Trainable params: 1,977\n",
            "Non-trainable params: 0\n",
            "_________________________________________________________________\n"
          ],
          "name": "stdout"
        }
      ]
    },
    {
      "cell_type": "code",
      "metadata": {
        "id": "8FSevdwU0WWz",
        "colab_type": "code",
        "outputId": "4bf11d38-10b6-410d-f494-2cbe7595c31a",
        "colab": {
          "base_uri": "https://localhost:8080/",
          "height": 391
        }
      },
      "source": [
        "input_obj = tf.keras.layers.Input(shape=(28,28,1))\n",
        "x = tf.keras.layers.Conv2D(16, 3, activation='relu')(input_obj)\n",
        "x = tf.keras.layers.MaxPooling2D(2)(x)\n",
        "x = tf.keras.layers.Conv2D(8, 3, activation='relu')(x)\n",
        "x = tf.keras.layers.MaxPooling2D(2)(x)\n",
        "x = tf.keras.layers.Conv2D(8, 3, activation='relu')(x)\n",
        "output = tf.keras.layers.Conv2D(1, 3, activation='sigmoid')(x)\n",
        "\n",
        "model = tf.keras.Model(input_obj, output)\n",
        "model.summary()"
      ],
      "execution_count": 3,
      "outputs": [
        {
          "output_type": "stream",
          "text": [
            "Model: \"model\"\n",
            "_________________________________________________________________\n",
            "Layer (type)                 Output Shape              Param #   \n",
            "=================================================================\n",
            "input_1 (InputLayer)         [(None, 28, 28, 1)]       0         \n",
            "_________________________________________________________________\n",
            "conv2d_4 (Conv2D)            (None, 26, 26, 16)        160       \n",
            "_________________________________________________________________\n",
            "max_pooling2d_2 (MaxPooling2 (None, 13, 13, 16)        0         \n",
            "_________________________________________________________________\n",
            "conv2d_5 (Conv2D)            (None, 11, 11, 8)         1160      \n",
            "_________________________________________________________________\n",
            "max_pooling2d_3 (MaxPooling2 (None, 5, 5, 8)           0         \n",
            "_________________________________________________________________\n",
            "conv2d_6 (Conv2D)            (None, 3, 3, 8)           584       \n",
            "_________________________________________________________________\n",
            "conv2d_7 (Conv2D)            (None, 1, 1, 1)           73        \n",
            "=================================================================\n",
            "Total params: 1,977\n",
            "Trainable params: 1,977\n",
            "Non-trainable params: 0\n",
            "_________________________________________________________________\n"
          ],
          "name": "stdout"
        }
      ]
    },
    {
      "cell_type": "markdown",
      "metadata": {
        "id": "dF1KV1VR5cky",
        "colab_type": "text"
      },
      "source": [
        "# Data Loading"
      ]
    },
    {
      "cell_type": "code",
      "metadata": {
        "id": "UY6-vhu3spx0",
        "colab_type": "code",
        "outputId": "efd27328-ac85-43ba-918b-b40825b00c8d",
        "colab": {
          "base_uri": "https://localhost:8080/",
          "height": 68
        }
      },
      "source": [
        "(x_train, _), (x_test, _) = tf.keras.datasets.mnist.load_data()\n",
        "x_train = x_train.astype('float32') / 255.\n",
        "x_test = x_test.astype('float32') / 255.\n",
        "print(x_train.shape, x_test.shape)"
      ],
      "execution_count": 4,
      "outputs": [
        {
          "output_type": "stream",
          "text": [
            "Downloading data from https://storage.googleapis.com/tensorflow/tf-keras-datasets/mnist.npz\n",
            "11493376/11490434 [==============================] - 0s 0us/step\n",
            "(60000, 28, 28) (10000, 28, 28)\n"
          ],
          "name": "stdout"
        }
      ]
    },
    {
      "cell_type": "markdown",
      "metadata": {
        "id": "CiJL7sjVr5j5",
        "colab_type": "text"
      },
      "source": [
        "# Dense Autoencoder\n",
        "\n",
        "Based on https://blog.keras.io/building-autoencoders-in-keras.html"
      ]
    },
    {
      "cell_type": "code",
      "metadata": {
        "id": "XM2pIzZySvb1",
        "colab_type": "code",
        "outputId": "02975aee-584b-4826-e4d7-402cb506622c",
        "colab": {
          "base_uri": "https://localhost:8080/",
          "height": 255
        }
      },
      "source": [
        "encoding_dim = 32 # this is the size of our encoded representations\n",
        "\n",
        "# Build the end-to-end model\n",
        "input_img = tf.keras.layers.Input(shape=(784,))\n",
        "encoded = tf.keras.layers.Dense(encoding_dim, activation='relu')(input_img)\n",
        "decoded = tf.keras.layers.Dense(784, activation='sigmoid')(encoded)\n",
        "autoencoder = tf.keras.Model(input_img, decoded)\n",
        "\n",
        "# Point to the encoder model\n",
        "encoder = tf.keras.Model(input_img, encoded)\n",
        "\n",
        "# Point to the decoder model\n",
        "encoded_input = tf.keras.layers.Input(shape=(encoding_dim,))\n",
        "decoder_layer = autoencoder.layers[-1]\n",
        "decoder = tf.keras.Model(encoded_input, decoder_layer(encoded_input))\n",
        "\n",
        "# NOTE - using an intentionally high learning rate to speed up training,\n",
        "#        may not be optimal\n",
        "optimizer = tf.keras.optimizers.Adadelta(learning_rate=1e-1)\n",
        "autoencoder.compile(optimizer=optimizer, loss='binary_crossentropy')\n",
        "\n",
        "autoencoder.summary()"
      ],
      "execution_count": 6,
      "outputs": [
        {
          "output_type": "stream",
          "text": [
            "Model: \"model_4\"\n",
            "_________________________________________________________________\n",
            "Layer (type)                 Output Shape              Param #   \n",
            "=================================================================\n",
            "input_4 (InputLayer)         [(None, 784)]             0         \n",
            "_________________________________________________________________\n",
            "dense_2 (Dense)              (None, 32)                25120     \n",
            "_________________________________________________________________\n",
            "dense_3 (Dense)              (None, 784)               25872     \n",
            "=================================================================\n",
            "Total params: 50,992\n",
            "Trainable params: 50,992\n",
            "Non-trainable params: 0\n",
            "_________________________________________________________________\n"
          ],
          "name": "stdout"
        }
      ]
    },
    {
      "cell_type": "code",
      "metadata": {
        "id": "1cGNJTWlobTu",
        "colab_type": "code",
        "colab": {}
      },
      "source": [
        "# Flatten images\n",
        "X_train = x_train.reshape((len(x_train), np.prod(x_train.shape[1:])))\n",
        "X_test = x_test.reshape((len(x_test), np.prod(x_test.shape[1:])))"
      ],
      "execution_count": 0,
      "outputs": []
    },
    {
      "cell_type": "code",
      "metadata": {
        "id": "JgVrd1piS7iI",
        "colab_type": "code",
        "outputId": "6b42edb6-5029-4bb1-987d-4fb7dd65decf",
        "colab": {
          "base_uri": "https://localhost:8080/",
          "height": 1000
        }
      },
      "source": [
        "# Train \n",
        "history = autoencoder.fit(X_train, X_train,\n",
        "                          epochs=200,\n",
        "                          batch_size=256,\n",
        "                          shuffle=True,\n",
        "                          validation_data=(X_test, X_test))"
      ],
      "execution_count": 7,
      "outputs": [
        {
          "output_type": "stream",
          "text": [
            "Epoch 1/200\n",
            "235/235 [==============================] - 2s 9ms/step - loss: 0.6803 - val_loss: 0.6508\n",
            "Epoch 2/200\n",
            "235/235 [==============================] - 2s 9ms/step - loss: 0.5401 - val_loss: 0.3990\n",
            "Epoch 3/200\n",
            "235/235 [==============================] - 2s 9ms/step - loss: 0.3369 - val_loss: 0.3012\n",
            "Epoch 4/200\n",
            "235/235 [==============================] - 2s 9ms/step - loss: 0.2932 - val_loss: 0.2854\n",
            "Epoch 5/200\n",
            "235/235 [==============================] - 2s 9ms/step - loss: 0.2834 - val_loss: 0.2798\n",
            "Epoch 6/200\n",
            "235/235 [==============================] - 2s 9ms/step - loss: 0.2792 - val_loss: 0.2768\n",
            "Epoch 7/200\n",
            "235/235 [==============================] - 2s 9ms/step - loss: 0.2766 - val_loss: 0.2747\n",
            "Epoch 8/200\n",
            "235/235 [==============================] - 2s 9ms/step - loss: 0.2747 - val_loss: 0.2731\n",
            "Epoch 9/200\n",
            "235/235 [==============================] - 2s 9ms/step - loss: 0.2731 - val_loss: 0.2717\n",
            "Epoch 10/200\n",
            "235/235 [==============================] - 2s 9ms/step - loss: 0.2717 - val_loss: 0.2703\n",
            "Epoch 11/200\n",
            "235/235 [==============================] - 2s 9ms/step - loss: 0.2703 - val_loss: 0.2689\n",
            "Epoch 12/200\n",
            "235/235 [==============================] - 2s 9ms/step - loss: 0.2690 - val_loss: 0.2675\n",
            "Epoch 13/200\n",
            "235/235 [==============================] - 2s 9ms/step - loss: 0.2675 - val_loss: 0.2660\n",
            "Epoch 14/200\n",
            "235/235 [==============================] - 2s 9ms/step - loss: 0.2659 - val_loss: 0.2643\n",
            "Epoch 15/200\n",
            "235/235 [==============================] - 2s 9ms/step - loss: 0.2642 - val_loss: 0.2625\n",
            "Epoch 16/200\n",
            "235/235 [==============================] - 2s 9ms/step - loss: 0.2623 - val_loss: 0.2605\n",
            "Epoch 17/200\n",
            "235/235 [==============================] - 2s 9ms/step - loss: 0.2603 - val_loss: 0.2584\n",
            "Epoch 18/200\n",
            "235/235 [==============================] - 2s 9ms/step - loss: 0.2582 - val_loss: 0.2562\n",
            "Epoch 19/200\n",
            "235/235 [==============================] - 2s 9ms/step - loss: 0.2559 - val_loss: 0.2538\n",
            "Epoch 20/200\n",
            "235/235 [==============================] - 2s 9ms/step - loss: 0.2537 - val_loss: 0.2514\n",
            "Epoch 21/200\n",
            "235/235 [==============================] - 2s 9ms/step - loss: 0.2512 - val_loss: 0.2490\n",
            "Epoch 22/200\n",
            "235/235 [==============================] - 2s 9ms/step - loss: 0.2489 - val_loss: 0.2466\n",
            "Epoch 23/200\n",
            "235/235 [==============================] - 2s 9ms/step - loss: 0.2466 - val_loss: 0.2442\n",
            "Epoch 24/200\n",
            "235/235 [==============================] - 2s 9ms/step - loss: 0.2443 - val_loss: 0.2419\n",
            "Epoch 25/200\n",
            "235/235 [==============================] - 2s 9ms/step - loss: 0.2420 - val_loss: 0.2396\n",
            "Epoch 26/200\n",
            "235/235 [==============================] - 2s 9ms/step - loss: 0.2397 - val_loss: 0.2373\n",
            "Epoch 27/200\n",
            "235/235 [==============================] - 2s 9ms/step - loss: 0.2375 - val_loss: 0.2351\n",
            "Epoch 28/200\n",
            "235/235 [==============================] - 2s 9ms/step - loss: 0.2353 - val_loss: 0.2329\n",
            "Epoch 29/200\n",
            "235/235 [==============================] - 2s 9ms/step - loss: 0.2332 - val_loss: 0.2307\n",
            "Epoch 30/200\n",
            "235/235 [==============================] - 2s 9ms/step - loss: 0.2311 - val_loss: 0.2286\n",
            "Epoch 31/200\n",
            "235/235 [==============================] - 2s 9ms/step - loss: 0.2290 - val_loss: 0.2266\n",
            "Epoch 32/200\n",
            "235/235 [==============================] - 2s 9ms/step - loss: 0.2271 - val_loss: 0.2247\n",
            "Epoch 33/200\n",
            "235/235 [==============================] - 2s 9ms/step - loss: 0.2252 - val_loss: 0.2227\n",
            "Epoch 34/200\n",
            "235/235 [==============================] - 2s 9ms/step - loss: 0.2233 - val_loss: 0.2209\n",
            "Epoch 35/200\n",
            "235/235 [==============================] - 2s 9ms/step - loss: 0.2215 - val_loss: 0.2191\n",
            "Epoch 36/200\n",
            "235/235 [==============================] - 2s 9ms/step - loss: 0.2198 - val_loss: 0.2174\n",
            "Epoch 37/200\n",
            "235/235 [==============================] - 2s 9ms/step - loss: 0.2181 - val_loss: 0.2158\n",
            "Epoch 38/200\n",
            "235/235 [==============================] - 2s 9ms/step - loss: 0.2164 - val_loss: 0.2142\n",
            "Epoch 39/200\n",
            "235/235 [==============================] - 2s 9ms/step - loss: 0.2149 - val_loss: 0.2126\n",
            "Epoch 40/200\n",
            "235/235 [==============================] - 2s 9ms/step - loss: 0.2133 - val_loss: 0.2111\n",
            "Epoch 41/200\n",
            "235/235 [==============================] - 2s 9ms/step - loss: 0.2118 - val_loss: 0.2097\n",
            "Epoch 42/200\n",
            "235/235 [==============================] - 2s 9ms/step - loss: 0.2104 - val_loss: 0.2083\n",
            "Epoch 43/200\n",
            "235/235 [==============================] - 2s 9ms/step - loss: 0.2090 - val_loss: 0.2069\n",
            "Epoch 44/200\n",
            "235/235 [==============================] - 2s 9ms/step - loss: 0.2076 - val_loss: 0.2056\n",
            "Epoch 45/200\n",
            "235/235 [==============================] - 2s 9ms/step - loss: 0.2064 - val_loss: 0.2043\n",
            "Epoch 46/200\n",
            "235/235 [==============================] - 2s 9ms/step - loss: 0.2051 - val_loss: 0.2031\n",
            "Epoch 47/200\n",
            "235/235 [==============================] - 2s 9ms/step - loss: 0.2039 - val_loss: 0.2019\n",
            "Epoch 48/200\n",
            "235/235 [==============================] - 2s 9ms/step - loss: 0.2027 - val_loss: 0.2007\n",
            "Epoch 49/200\n",
            "235/235 [==============================] - 2s 9ms/step - loss: 0.2016 - val_loss: 0.1996\n",
            "Epoch 50/200\n",
            "235/235 [==============================] - 2s 9ms/step - loss: 0.2005 - val_loss: 0.1985\n",
            "Epoch 51/200\n",
            "235/235 [==============================] - 2s 9ms/step - loss: 0.1994 - val_loss: 0.1974\n",
            "Epoch 52/200\n",
            "235/235 [==============================] - 2s 9ms/step - loss: 0.1983 - val_loss: 0.1964\n",
            "Epoch 53/200\n",
            "235/235 [==============================] - 2s 9ms/step - loss: 0.1973 - val_loss: 0.1954\n",
            "Epoch 54/200\n",
            "235/235 [==============================] - 2s 9ms/step - loss: 0.1964 - val_loss: 0.1945\n",
            "Epoch 55/200\n",
            "235/235 [==============================] - 2s 9ms/step - loss: 0.1954 - val_loss: 0.1935\n",
            "Epoch 56/200\n",
            "235/235 [==============================] - 2s 9ms/step - loss: 0.1944 - val_loss: 0.1926\n",
            "Epoch 57/200\n",
            "235/235 [==============================] - 2s 9ms/step - loss: 0.1935 - val_loss: 0.1917\n",
            "Epoch 58/200\n",
            "235/235 [==============================] - 2s 9ms/step - loss: 0.1927 - val_loss: 0.1908\n",
            "Epoch 59/200\n",
            "235/235 [==============================] - 2s 9ms/step - loss: 0.1918 - val_loss: 0.1900\n",
            "Epoch 60/200\n",
            "235/235 [==============================] - 2s 9ms/step - loss: 0.1909 - val_loss: 0.1891\n",
            "Epoch 61/200\n",
            "235/235 [==============================] - 2s 9ms/step - loss: 0.1901 - val_loss: 0.1883\n",
            "Epoch 62/200\n",
            "235/235 [==============================] - 2s 9ms/step - loss: 0.1893 - val_loss: 0.1875\n",
            "Epoch 63/200\n",
            "235/235 [==============================] - 2s 9ms/step - loss: 0.1885 - val_loss: 0.1867\n",
            "Epoch 64/200\n",
            "235/235 [==============================] - 2s 9ms/step - loss: 0.1878 - val_loss: 0.1859\n",
            "Epoch 65/200\n",
            "235/235 [==============================] - 2s 9ms/step - loss: 0.1870 - val_loss: 0.1851\n",
            "Epoch 66/200\n",
            "235/235 [==============================] - 2s 9ms/step - loss: 0.1862 - val_loss: 0.1844\n",
            "Epoch 67/200\n",
            "235/235 [==============================] - 2s 9ms/step - loss: 0.1855 - val_loss: 0.1837\n",
            "Epoch 68/200\n",
            "235/235 [==============================] - 2s 9ms/step - loss: 0.1847 - val_loss: 0.1830\n",
            "Epoch 69/200\n",
            "235/235 [==============================] - 2s 9ms/step - loss: 0.1840 - val_loss: 0.1822\n",
            "Epoch 70/200\n",
            "235/235 [==============================] - 2s 9ms/step - loss: 0.1833 - val_loss: 0.1815\n",
            "Epoch 71/200\n",
            "235/235 [==============================] - 2s 9ms/step - loss: 0.1826 - val_loss: 0.1808\n",
            "Epoch 72/200\n",
            "235/235 [==============================] - 2s 9ms/step - loss: 0.1820 - val_loss: 0.1802\n",
            "Epoch 73/200\n",
            "235/235 [==============================] - 2s 9ms/step - loss: 0.1813 - val_loss: 0.1795\n",
            "Epoch 74/200\n",
            "235/235 [==============================] - 2s 9ms/step - loss: 0.1806 - val_loss: 0.1789\n",
            "Epoch 75/200\n",
            "235/235 [==============================] - 2s 9ms/step - loss: 0.1800 - val_loss: 0.1782\n",
            "Epoch 76/200\n",
            "235/235 [==============================] - 2s 9ms/step - loss: 0.1793 - val_loss: 0.1775\n",
            "Epoch 77/200\n",
            "235/235 [==============================] - 2s 9ms/step - loss: 0.1787 - val_loss: 0.1770\n",
            "Epoch 78/200\n",
            "235/235 [==============================] - 2s 9ms/step - loss: 0.1781 - val_loss: 0.1763\n",
            "Epoch 79/200\n",
            "235/235 [==============================] - 2s 9ms/step - loss: 0.1775 - val_loss: 0.1757\n",
            "Epoch 80/200\n",
            "235/235 [==============================] - 2s 9ms/step - loss: 0.1769 - val_loss: 0.1751\n",
            "Epoch 81/200\n",
            "235/235 [==============================] - 2s 9ms/step - loss: 0.1762 - val_loss: 0.1745\n",
            "Epoch 82/200\n",
            "235/235 [==============================] - 2s 9ms/step - loss: 0.1757 - val_loss: 0.1739\n",
            "Epoch 83/200\n",
            "235/235 [==============================] - 2s 9ms/step - loss: 0.1751 - val_loss: 0.1733\n",
            "Epoch 84/200\n",
            "235/235 [==============================] - 2s 9ms/step - loss: 0.1745 - val_loss: 0.1728\n",
            "Epoch 85/200\n",
            "235/235 [==============================] - 2s 9ms/step - loss: 0.1740 - val_loss: 0.1722\n",
            "Epoch 86/200\n",
            "235/235 [==============================] - 2s 9ms/step - loss: 0.1734 - val_loss: 0.1716\n",
            "Epoch 87/200\n",
            "235/235 [==============================] - 2s 9ms/step - loss: 0.1728 - val_loss: 0.1711\n",
            "Epoch 88/200\n",
            "235/235 [==============================] - 2s 9ms/step - loss: 0.1723 - val_loss: 0.1705\n",
            "Epoch 89/200\n",
            "235/235 [==============================] - 2s 9ms/step - loss: 0.1717 - val_loss: 0.1700\n",
            "Epoch 90/200\n",
            "235/235 [==============================] - 2s 9ms/step - loss: 0.1712 - val_loss: 0.1695\n",
            "Epoch 91/200\n",
            "235/235 [==============================] - 2s 9ms/step - loss: 0.1707 - val_loss: 0.1689\n",
            "Epoch 92/200\n",
            "235/235 [==============================] - 2s 9ms/step - loss: 0.1702 - val_loss: 0.1684\n",
            "Epoch 93/200\n",
            "235/235 [==============================] - 2s 9ms/step - loss: 0.1697 - val_loss: 0.1679\n",
            "Epoch 94/200\n",
            "235/235 [==============================] - 2s 9ms/step - loss: 0.1692 - val_loss: 0.1674\n",
            "Epoch 95/200\n",
            "235/235 [==============================] - 2s 9ms/step - loss: 0.1687 - val_loss: 0.1669\n",
            "Epoch 96/200\n",
            "235/235 [==============================] - 2s 9ms/step - loss: 0.1682 - val_loss: 0.1664\n",
            "Epoch 97/200\n",
            "235/235 [==============================] - 2s 9ms/step - loss: 0.1677 - val_loss: 0.1659\n",
            "Epoch 98/200\n",
            "235/235 [==============================] - 2s 9ms/step - loss: 0.1672 - val_loss: 0.1654\n",
            "Epoch 99/200\n",
            "235/235 [==============================] - 2s 9ms/step - loss: 0.1667 - val_loss: 0.1650\n",
            "Epoch 100/200\n",
            "235/235 [==============================] - 2s 9ms/step - loss: 0.1663 - val_loss: 0.1645\n",
            "Epoch 101/200\n",
            "235/235 [==============================] - 2s 9ms/step - loss: 0.1658 - val_loss: 0.1640\n",
            "Epoch 102/200\n",
            "235/235 [==============================] - 2s 9ms/step - loss: 0.1653 - val_loss: 0.1635\n",
            "Epoch 103/200\n",
            "235/235 [==============================] - 2s 9ms/step - loss: 0.1649 - val_loss: 0.1631\n",
            "Epoch 104/200\n",
            "235/235 [==============================] - 2s 9ms/step - loss: 0.1644 - val_loss: 0.1626\n",
            "Epoch 105/200\n",
            "235/235 [==============================] - 2s 9ms/step - loss: 0.1639 - val_loss: 0.1621\n",
            "Epoch 106/200\n",
            "235/235 [==============================] - 2s 9ms/step - loss: 0.1635 - val_loss: 0.1617\n",
            "Epoch 107/200\n",
            "235/235 [==============================] - 2s 9ms/step - loss: 0.1630 - val_loss: 0.1613\n",
            "Epoch 108/200\n",
            "235/235 [==============================] - 2s 9ms/step - loss: 0.1626 - val_loss: 0.1608\n",
            "Epoch 109/200\n",
            "235/235 [==============================] - 2s 9ms/step - loss: 0.1621 - val_loss: 0.1604\n",
            "Epoch 110/200\n",
            "235/235 [==============================] - 2s 9ms/step - loss: 0.1617 - val_loss: 0.1599\n",
            "Epoch 111/200\n",
            "235/235 [==============================] - 2s 9ms/step - loss: 0.1613 - val_loss: 0.1595\n",
            "Epoch 112/200\n",
            "235/235 [==============================] - 2s 9ms/step - loss: 0.1609 - val_loss: 0.1591\n",
            "Epoch 113/200\n",
            "235/235 [==============================] - 2s 9ms/step - loss: 0.1604 - val_loss: 0.1586\n",
            "Epoch 114/200\n",
            "235/235 [==============================] - 2s 9ms/step - loss: 0.1600 - val_loss: 0.1582\n",
            "Epoch 115/200\n",
            "235/235 [==============================] - 2s 9ms/step - loss: 0.1596 - val_loss: 0.1578\n",
            "Epoch 116/200\n",
            "235/235 [==============================] - 2s 9ms/step - loss: 0.1592 - val_loss: 0.1574\n",
            "Epoch 117/200\n",
            "235/235 [==============================] - 2s 9ms/step - loss: 0.1588 - val_loss: 0.1570\n",
            "Epoch 118/200\n",
            "235/235 [==============================] - 2s 9ms/step - loss: 0.1583 - val_loss: 0.1565\n",
            "Epoch 119/200\n",
            "235/235 [==============================] - 2s 9ms/step - loss: 0.1579 - val_loss: 0.1561\n",
            "Epoch 120/200\n",
            "235/235 [==============================] - 2s 9ms/step - loss: 0.1576 - val_loss: 0.1557\n",
            "Epoch 121/200\n",
            "235/235 [==============================] - 2s 9ms/step - loss: 0.1571 - val_loss: 0.1553\n",
            "Epoch 122/200\n",
            "235/235 [==============================] - 2s 9ms/step - loss: 0.1567 - val_loss: 0.1549\n",
            "Epoch 123/200\n",
            "235/235 [==============================] - 2s 9ms/step - loss: 0.1564 - val_loss: 0.1545\n",
            "Epoch 124/200\n",
            "235/235 [==============================] - 2s 9ms/step - loss: 0.1560 - val_loss: 0.1541\n",
            "Epoch 125/200\n",
            "235/235 [==============================] - 2s 9ms/step - loss: 0.1556 - val_loss: 0.1537\n",
            "Epoch 126/200\n",
            "235/235 [==============================] - 2s 9ms/step - loss: 0.1552 - val_loss: 0.1533\n",
            "Epoch 127/200\n",
            "235/235 [==============================] - 2s 9ms/step - loss: 0.1548 - val_loss: 0.1530\n",
            "Epoch 128/200\n",
            "235/235 [==============================] - 2s 9ms/step - loss: 0.1544 - val_loss: 0.1526\n",
            "Epoch 129/200\n",
            "235/235 [==============================] - 2s 9ms/step - loss: 0.1540 - val_loss: 0.1522\n",
            "Epoch 130/200\n",
            "235/235 [==============================] - 2s 9ms/step - loss: 0.1537 - val_loss: 0.1518\n",
            "Epoch 131/200\n",
            "235/235 [==============================] - 2s 9ms/step - loss: 0.1533 - val_loss: 0.1515\n",
            "Epoch 132/200\n",
            "235/235 [==============================] - 2s 9ms/step - loss: 0.1530 - val_loss: 0.1510\n",
            "Epoch 133/200\n",
            "235/235 [==============================] - 2s 9ms/step - loss: 0.1526 - val_loss: 0.1507\n",
            "Epoch 134/200\n",
            "235/235 [==============================] - 2s 9ms/step - loss: 0.1522 - val_loss: 0.1503\n",
            "Epoch 135/200\n",
            "235/235 [==============================] - 2s 9ms/step - loss: 0.1519 - val_loss: 0.1500\n",
            "Epoch 136/200\n",
            "235/235 [==============================] - 2s 9ms/step - loss: 0.1515 - val_loss: 0.1496\n",
            "Epoch 137/200\n",
            "235/235 [==============================] - 2s 9ms/step - loss: 0.1512 - val_loss: 0.1492\n",
            "Epoch 138/200\n",
            "235/235 [==============================] - 2s 9ms/step - loss: 0.1508 - val_loss: 0.1489\n",
            "Epoch 139/200\n",
            "235/235 [==============================] - 2s 9ms/step - loss: 0.1505 - val_loss: 0.1485\n",
            "Epoch 140/200\n",
            "235/235 [==============================] - 2s 9ms/step - loss: 0.1501 - val_loss: 0.1482\n",
            "Epoch 141/200\n",
            "235/235 [==============================] - 2s 9ms/step - loss: 0.1497 - val_loss: 0.1479\n",
            "Epoch 142/200\n",
            "235/235 [==============================] - 2s 9ms/step - loss: 0.1494 - val_loss: 0.1475\n",
            "Epoch 143/200\n",
            "235/235 [==============================] - 2s 9ms/step - loss: 0.1491 - val_loss: 0.1472\n",
            "Epoch 144/200\n",
            "235/235 [==============================] - 2s 9ms/step - loss: 0.1487 - val_loss: 0.1468\n",
            "Epoch 145/200\n",
            "235/235 [==============================] - 2s 9ms/step - loss: 0.1484 - val_loss: 0.1465\n",
            "Epoch 146/200\n",
            "235/235 [==============================] - 2s 9ms/step - loss: 0.1481 - val_loss: 0.1461\n",
            "Epoch 147/200\n",
            "235/235 [==============================] - 2s 9ms/step - loss: 0.1477 - val_loss: 0.1458\n",
            "Epoch 148/200\n",
            "235/235 [==============================] - 2s 9ms/step - loss: 0.1474 - val_loss: 0.1455\n",
            "Epoch 149/200\n",
            "235/235 [==============================] - 2s 9ms/step - loss: 0.1471 - val_loss: 0.1451\n",
            "Epoch 150/200\n",
            "235/235 [==============================] - 2s 9ms/step - loss: 0.1468 - val_loss: 0.1448\n",
            "Epoch 151/200\n",
            "235/235 [==============================] - 2s 9ms/step - loss: 0.1465 - val_loss: 0.1445\n",
            "Epoch 152/200\n",
            "235/235 [==============================] - 2s 9ms/step - loss: 0.1461 - val_loss: 0.1442\n",
            "Epoch 153/200\n",
            "235/235 [==============================] - 2s 9ms/step - loss: 0.1458 - val_loss: 0.1439\n",
            "Epoch 154/200\n",
            "235/235 [==============================] - 2s 9ms/step - loss: 0.1455 - val_loss: 0.1436\n",
            "Epoch 155/200\n",
            "235/235 [==============================] - 2s 9ms/step - loss: 0.1452 - val_loss: 0.1433\n",
            "Epoch 156/200\n",
            "235/235 [==============================] - 2s 9ms/step - loss: 0.1449 - val_loss: 0.1429\n",
            "Epoch 157/200\n",
            "235/235 [==============================] - 2s 9ms/step - loss: 0.1446 - val_loss: 0.1426\n",
            "Epoch 158/200\n",
            "235/235 [==============================] - 2s 9ms/step - loss: 0.1443 - val_loss: 0.1423\n",
            "Epoch 159/200\n",
            "235/235 [==============================] - 2s 9ms/step - loss: 0.1440 - val_loss: 0.1420\n",
            "Epoch 160/200\n",
            "235/235 [==============================] - 2s 9ms/step - loss: 0.1437 - val_loss: 0.1417\n",
            "Epoch 161/200\n",
            "235/235 [==============================] - 2s 9ms/step - loss: 0.1434 - val_loss: 0.1414\n",
            "Epoch 162/200\n",
            "235/235 [==============================] - 2s 9ms/step - loss: 0.1431 - val_loss: 0.1411\n",
            "Epoch 163/200\n",
            "235/235 [==============================] - 2s 9ms/step - loss: 0.1428 - val_loss: 0.1409\n",
            "Epoch 164/200\n",
            "235/235 [==============================] - 2s 9ms/step - loss: 0.1425 - val_loss: 0.1405\n",
            "Epoch 165/200\n",
            "235/235 [==============================] - 2s 9ms/step - loss: 0.1423 - val_loss: 0.1403\n",
            "Epoch 166/200\n",
            "235/235 [==============================] - 2s 9ms/step - loss: 0.1420 - val_loss: 0.1400\n",
            "Epoch 167/200\n",
            "235/235 [==============================] - 2s 9ms/step - loss: 0.1417 - val_loss: 0.1397\n",
            "Epoch 168/200\n",
            "235/235 [==============================] - 2s 9ms/step - loss: 0.1414 - val_loss: 0.1395\n",
            "Epoch 169/200\n",
            "235/235 [==============================] - 2s 9ms/step - loss: 0.1411 - val_loss: 0.1391\n",
            "Epoch 170/200\n",
            "235/235 [==============================] - 2s 9ms/step - loss: 0.1409 - val_loss: 0.1389\n",
            "Epoch 171/200\n",
            "235/235 [==============================] - 2s 9ms/step - loss: 0.1406 - val_loss: 0.1386\n",
            "Epoch 172/200\n",
            "235/235 [==============================] - 2s 9ms/step - loss: 0.1403 - val_loss: 0.1383\n",
            "Epoch 173/200\n",
            "235/235 [==============================] - 2s 9ms/step - loss: 0.1401 - val_loss: 0.1381\n",
            "Epoch 174/200\n",
            "235/235 [==============================] - 2s 9ms/step - loss: 0.1398 - val_loss: 0.1378\n",
            "Epoch 175/200\n",
            "235/235 [==============================] - 2s 9ms/step - loss: 0.1395 - val_loss: 0.1375\n",
            "Epoch 176/200\n",
            "235/235 [==============================] - 2s 9ms/step - loss: 0.1393 - val_loss: 0.1373\n",
            "Epoch 177/200\n",
            "235/235 [==============================] - 2s 9ms/step - loss: 0.1390 - val_loss: 0.1370\n",
            "Epoch 178/200\n",
            "235/235 [==============================] - 2s 9ms/step - loss: 0.1387 - val_loss: 0.1367\n",
            "Epoch 179/200\n",
            "235/235 [==============================] - 2s 9ms/step - loss: 0.1385 - val_loss: 0.1365\n",
            "Epoch 180/200\n",
            "235/235 [==============================] - 2s 9ms/step - loss: 0.1382 - val_loss: 0.1362\n",
            "Epoch 181/200\n",
            "235/235 [==============================] - 2s 9ms/step - loss: 0.1380 - val_loss: 0.1360\n",
            "Epoch 182/200\n",
            "235/235 [==============================] - 2s 9ms/step - loss: 0.1377 - val_loss: 0.1357\n",
            "Epoch 183/200\n",
            "235/235 [==============================] - 2s 9ms/step - loss: 0.1375 - val_loss: 0.1355\n",
            "Epoch 184/200\n",
            "235/235 [==============================] - 2s 9ms/step - loss: 0.1372 - val_loss: 0.1353\n",
            "Epoch 185/200\n",
            "235/235 [==============================] - 2s 9ms/step - loss: 0.1370 - val_loss: 0.1350\n",
            "Epoch 186/200\n",
            "235/235 [==============================] - 2s 9ms/step - loss: 0.1368 - val_loss: 0.1347\n",
            "Epoch 187/200\n",
            "235/235 [==============================] - 2s 9ms/step - loss: 0.1365 - val_loss: 0.1345\n",
            "Epoch 188/200\n",
            "235/235 [==============================] - 2s 9ms/step - loss: 0.1363 - val_loss: 0.1343\n",
            "Epoch 189/200\n",
            "235/235 [==============================] - 2s 10ms/step - loss: 0.1361 - val_loss: 0.1340\n",
            "Epoch 190/200\n",
            "235/235 [==============================] - 2s 9ms/step - loss: 0.1358 - val_loss: 0.1338\n",
            "Epoch 191/200\n",
            "235/235 [==============================] - 2s 10ms/step - loss: 0.1356 - val_loss: 0.1336\n",
            "Epoch 192/200\n",
            "235/235 [==============================] - 2s 10ms/step - loss: 0.1354 - val_loss: 0.1333\n",
            "Epoch 193/200\n",
            "235/235 [==============================] - 2s 9ms/step - loss: 0.1351 - val_loss: 0.1331\n",
            "Epoch 194/200\n",
            "235/235 [==============================] - 2s 9ms/step - loss: 0.1349 - val_loss: 0.1329\n",
            "Epoch 195/200\n",
            "235/235 [==============================] - 2s 9ms/step - loss: 0.1347 - val_loss: 0.1326\n",
            "Epoch 196/200\n",
            "235/235 [==============================] - 2s 9ms/step - loss: 0.1344 - val_loss: 0.1324\n",
            "Epoch 197/200\n",
            "235/235 [==============================] - 2s 9ms/step - loss: 0.1342 - val_loss: 0.1322\n",
            "Epoch 198/200\n",
            "235/235 [==============================] - 2s 9ms/step - loss: 0.1340 - val_loss: 0.1320\n",
            "Epoch 199/200\n",
            "235/235 [==============================] - 2s 9ms/step - loss: 0.1338 - val_loss: 0.1318\n",
            "Epoch 200/200\n",
            "235/235 [==============================] - 2s 9ms/step - loss: 0.1336 - val_loss: 0.1315\n"
          ],
          "name": "stdout"
        }
      ]
    },
    {
      "cell_type": "code",
      "metadata": {
        "id": "CzEWg4cvlreI",
        "colab_type": "code",
        "outputId": "16c0c0e4-dace-431d-f278-97f091c0dfea",
        "colab": {
          "base_uri": "https://localhost:8080/",
          "height": 295
        }
      },
      "source": [
        "plt.plot(history.history['loss'], label='Training Loss')\n",
        "plt.plot(history.history['val_loss'], label='Validation Loss')\n",
        "plt.title('Model loss')\n",
        "plt.ylabel('Loss')\n",
        "plt.xlabel('Epoch')\n",
        "plt.legend(loc='upper right')\n",
        "plt.show()"
      ],
      "execution_count": 8,
      "outputs": [
        {
          "output_type": "display_data",
          "data": {
            "image/png": "[encoded data removed]",
            "text/plain": [
              "<Figure size 432x288 with 1 Axes>"
            ]
          },
          "metadata": {
            "tags": [],
            "needs_background": "light"
          }
        }
      ]
    },
    {
      "cell_type": "code",
      "metadata": {
        "id": "0MNFvw9ETAOP",
        "colab_type": "code",
        "outputId": "866c7f97-ddaa-4a0c-f798-c8e6fd9b62fa",
        "colab": {
          "base_uri": "https://localhost:8080/",
          "height": 204
        }
      },
      "source": [
        "# Encode and decode some digits\n",
        "decoded_imgs = autoencoder.predict(X_test)\n",
        "\n",
        "n = 10  # how many digits we will display\n",
        "plt.figure(figsize=(20, 4))\n",
        "for i in range(n):\n",
        "    # display original\n",
        "    ax = plt.subplot(2, n, i + 1)\n",
        "    plt.imshow(x_test[i].reshape(28, 28), cmap='gray')\n",
        "    ax.axis('off')\n",
        "\n",
        "    # display reconstruction\n",
        "    ax = plt.subplot(2, n, i + 1 + n)\n",
        "    plt.imshow(decoded_imgs[i].reshape(28, 28), cmap='gray')\n",
        "    ax.axis('off')\n",
        "\n",
        "plt.show()"
      ],
      "execution_count": 9,
      "outputs": [
        {
          "output_type": "display_data",
          "data": {
            "image/png": "[encoded data removed]",
            "text/plain": [
              "<Figure size 1440x288 with 20 Axes>"
            ]
          },
          "metadata": {
            "tags": [],
            "needs_background": "light"
          }
        }
      ]
    },
    {
      "cell_type": "markdown",
      "metadata": {
        "id": "NU3Rq8E5r2y-",
        "colab_type": "text"
      },
      "source": [
        "# Convolutional Autoencoder"
      ]
    },
    {
      "cell_type": "code",
      "metadata": {
        "id": "htZr6bYrTzzn",
        "colab_type": "code",
        "outputId": "d4bbc781-4aec-4709-f5e3-fa6b259b3c24",
        "colab": {
          "base_uri": "https://localhost:8080/",
          "height": 629
        }
      },
      "source": [
        "input_img = tf.keras.Input(shape=(28, 28, 1))\n",
        "\n",
        "x = tf.keras.layers.Conv2D(filters=16, kernel_size=3, activation='relu', padding='same')(input_img)\n",
        "x = tf.keras.layers.MaxPooling2D(2, padding='same')(x)\n",
        "x = tf.keras.layers.Conv2D(8, 3, activation='relu', padding='same')(x)\n",
        "x = tf.keras.layers.MaxPooling2D(2, padding='same')(x)\n",
        "x = tf.keras.layers.Conv2D(8, 3, activation='relu', padding='same')(x)\n",
        "encoded = tf.keras.layers.MaxPooling2D(2, padding='same')(x)\n",
        "\n",
        "x = tf.keras.layers.Conv2D(8, 3, activation='relu', padding='same')(encoded)\n",
        "x = tf.keras.layers.UpSampling2D(2)(x)\n",
        "x = tf.keras.layers.Conv2D(8, 3, activation='relu', padding='same')(x)\n",
        "x = tf.keras.layers.UpSampling2D(2)(x)\n",
        "x = tf.keras.layers.Conv2D(16, 3, activation='relu')(x)\n",
        "x = tf.keras.layers.UpSampling2D(2)(x)\n",
        "decoded = tf.keras.layers.Conv2D(1, 3, activation='sigmoid', padding='same')(x)\n",
        "\n",
        "autoencoder = tf.keras.Model(input_img, decoded)\n",
        "\n",
        "# NOTE - using an intentionally high learning rate to speed up training,\n",
        "#        may not be optimal\n",
        "optimizer = tf.keras.optimizers.Adadelta(learning_rate=1e-1)\n",
        "autoencoder.compile(optimizer=optimizer, loss='binary_crossentropy')\n",
        "\n",
        "autoencoder.summary()"
      ],
      "execution_count": 11,
      "outputs": [
        {
          "output_type": "stream",
          "text": [
            "Model: \"model_8\"\n",
            "_________________________________________________________________\n",
            "Layer (type)                 Output Shape              Param #   \n",
            "=================================================================\n",
            "input_7 (InputLayer)         [(None, 28, 28, 1)]       0         \n",
            "_________________________________________________________________\n",
            "conv2d_15 (Conv2D)           (None, 28, 28, 16)        160       \n",
            "_________________________________________________________________\n",
            "max_pooling2d_7 (MaxPooling2 (None, 14, 14, 16)        0         \n",
            "_________________________________________________________________\n",
            "conv2d_16 (Conv2D)           (None, 14, 14, 8)         1160      \n",
            "_________________________________________________________________\n",
            "max_pooling2d_8 (MaxPooling2 (None, 7, 7, 8)           0         \n",
            "_________________________________________________________________\n",
            "conv2d_17 (Conv2D)           (None, 7, 7, 8)           584       \n",
            "_________________________________________________________________\n",
            "max_pooling2d_9 (MaxPooling2 (None, 4, 4, 8)           0         \n",
            "_________________________________________________________________\n",
            "conv2d_18 (Conv2D)           (None, 4, 4, 8)           584       \n",
            "_________________________________________________________________\n",
            "up_sampling2d_3 (UpSampling2 (None, 8, 8, 8)           0         \n",
            "_________________________________________________________________\n",
            "conv2d_19 (Conv2D)           (None, 8, 8, 8)           584       \n",
            "_________________________________________________________________\n",
            "up_sampling2d_4 (UpSampling2 (None, 16, 16, 8)         0         \n",
            "_________________________________________________________________\n",
            "conv2d_20 (Conv2D)           (None, 14, 14, 16)        1168      \n",
            "_________________________________________________________________\n",
            "up_sampling2d_5 (UpSampling2 (None, 28, 28, 16)        0         \n",
            "_________________________________________________________________\n",
            "conv2d_21 (Conv2D)           (None, 28, 28, 1)         145       \n",
            "=================================================================\n",
            "Total params: 4,385\n",
            "Trainable params: 4,385\n",
            "Non-trainable params: 0\n",
            "_________________________________________________________________\n"
          ],
          "name": "stdout"
        }
      ]
    },
    {
      "cell_type": "code",
      "metadata": {
        "id": "6M2Ep7ObqYoo",
        "colab_type": "code",
        "colab": {}
      },
      "source": [
        "# Expand the channel dimension to 1\n",
        "X_train = x_train[..., np.newaxis]\n",
        "X_test = x_test[..., np.newaxis]"
      ],
      "execution_count": 0,
      "outputs": []
    },
    {
      "cell_type": "code",
      "metadata": {
        "id": "kDbYvzzAs8ue",
        "colab_type": "code",
        "colab": {}
      },
      "source": [
        "history = autoencoder.fit(X_train, X_train,\n",
        "                          epochs=25,\n",
        "                          batch_size=256,\n",
        "                          shuffle=True,\n",
        "                          validation_data=(X_test, X_test))"
      ],
      "execution_count": 0,
      "outputs": []
    },
    {
      "cell_type": "code",
      "metadata": {
        "id": "7DlKzJKG9fjB",
        "colab_type": "code",
        "colab": {}
      },
      "source": [
        "plt.plot(history.history['loss'], label='Training Loss')\n",
        "plt.plot(history.history['val_loss'], label='Validation Loss')\n",
        "plt.title('Model loss')\n",
        "plt.ylabel('Loss')\n",
        "plt.xlabel('Epoch')\n",
        "plt.legend(loc='upper right')\n",
        "plt.show()"
      ],
      "execution_count": 0,
      "outputs": []
    },
    {
      "cell_type": "code",
      "metadata": {
        "id": "USVOi79juXaA",
        "colab_type": "code",
        "colab": {
          "base_uri": "https://localhost:8080/",
          "height": 204
        },
        "outputId": "40d1e3ed-731e-46c9-99f5-0dbfb90b746d"
      },
      "source": [
        "decoded_imgs = autoencoder.predict(X_test)\n",
        "\n",
        "n = 10  # how many digits we will display\n",
        "plt.figure(figsize=(20, 4))\n",
        "for i in range(n):\n",
        "    # display original\n",
        "    ax = plt.subplot(2, n, i + 1)\n",
        "    plt.imshow(X_test[i].reshape(28, 28), cmap='gray')\n",
        "    ax.axis('off')\n",
        "\n",
        "    # display reconstruction\n",
        "    ax = plt.subplot(2, n, i + 1 + n)\n",
        "    plt.imshow(decoded_imgs[i].reshape(28, 28), cmap='gray')\n",
        "    ax.axis('off')\n",
        "\n",
        "plt.show()"
      ],
      "execution_count": 17,
      "outputs": [
        {
          "output_type": "display_data",
          "data": {
            "image/png": "[encoded data removed]",
            "text/plain": [
              "<Figure size 1440x288 with 20 Axes>"
            ]
          },
          "metadata": {
            "tags": [],
            "needs_background": "light"
          }
        }
      ]
    },
    {
      "cell_type": "code",
      "metadata": {
        "id": "T9Mh9m_b_Qw_",
        "colab_type": "code",
        "colab": {
          "base_uri": "https://localhost:8080/",
          "height": 334
        },
        "outputId": "0cdb517c-00cb-4e32-d002-0038fa1fe1db"
      },
      "source": [
        "encoder = tf.keras.Model(input_img, encoded)\n",
        "encoded_imgs = encoder.predict(X_test)\n",
        "\n",
        "n = 10\n",
        "plt.figure(figsize=(8, 6))\n",
        "for i in range(n):\n",
        "    ax = plt.subplot(1, n, i+1)\n",
        "    ax.imshow(encoded_imgs[i].reshape(4, 4 * 8).T, cmap='gray')\n",
        "    ax.axis('off')\n",
        "plt.show()"
      ],
      "execution_count": 18,
      "outputs": [
        {
          "output_type": "display_data",
          "data": {
            "image/png": "[encoded data removed]",
            "text/plain": [
              "<Figure size 576x432 with 10 Axes>"
            ]
          },
          "metadata": {
            "tags": [],
            "needs_background": "light"
          }
        }
      ]
    }
  ]
}