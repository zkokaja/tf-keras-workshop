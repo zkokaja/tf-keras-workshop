{
  "nbformat": 4,
  "nbformat_minor": 0,
  "metadata": {
    "colab": {
      "name": "NLP with IMDB Sentiments",
      "provenance": [],
      "toc_visible": true
    },
    "kernelspec": {
      "name": "python3",
      "display_name": "Python 3"
    }
  },
  "cells": [
    {
      "cell_type": "code",
      "metadata": {
        "id": "CYEZNTYhwzuW",
        "colab_type": "code",
        "colab": {}
      },
      "source": [
        "import re\n",
        "import glob\n",
        "import zipfile\n",
        "import smart_open\n",
        "import numpy as np\n",
        "import tensorflow as tf\n",
        "import matplotlib.pyplot as plt"
      ],
      "execution_count": 0,
      "outputs": []
    },
    {
      "cell_type": "code",
      "metadata": {
        "id": "t4y47x0TyE5_",
        "colab_type": "code",
        "colab": {}
      },
      "source": [
        "EMBEDDING_DIM = 50\n",
        "MAX_NUM_WORDS = 10000\n",
        "MAX_SEQUENCE_LENGTH = 300"
      ],
      "execution_count": 0,
      "outputs": []
    },
    {
      "cell_type": "markdown",
      "metadata": {
        "id": "jIdCthQtnEq3",
        "colab_type": "text"
      },
      "source": [
        "# Data Loading"
      ]
    },
    {
      "cell_type": "code",
      "metadata": {
        "id": "XQdySAOnwjvX",
        "colab_type": "code",
        "outputId": "9d0ab29e-a1ab-4668-eb5e-cdb1940d1fee",
        "colab": {
          "base_uri": "https://localhost:8080/",
          "height": 68
        }
      },
      "source": [
        "!curl -OL http://ai.stanford.edu/~amaas/data/sentiment/aclImdb_v1.tar.gz\n",
        "!tar -xf aclImdb_v1.tar.gz"
      ],
      "execution_count": 3,
      "outputs": [
        {
          "output_type": "stream",
          "text": [
            "  % Total    % Received % Xferd  Average Speed   Time    Time     Time  Current\n",
            "                                 Dload  Upload   Total   Spent    Left  Speed\n",
            "100 80.2M  100 80.2M    0     0  16.9M      0  0:00:04  0:00:04 --:--:-- 16.9M\n"
          ],
          "name": "stdout"
        }
      ]
    },
    {
      "cell_type": "code",
      "metadata": {
        "id": "1P88qsLBzkPp",
        "colab_type": "code",
        "colab": {}
      },
      "source": [
        "def preprocess_text(sen, tags_re=re.compile(r'<[^>]+>')):\n",
        "    '''Removing html tags'''\n",
        "    sentence = tags_re.sub('', sen)\n",
        "    return sentence"
      ],
      "execution_count": 0,
      "outputs": []
    },
    {
      "cell_type": "code",
      "metadata": {
        "id": "XCYPDXdgxalC",
        "colab_type": "code",
        "colab": {}
      },
      "source": [
        "def get_data(train=True, transform=preprocess_text):\n",
        "  reviews, labels = [], []\n",
        "  mode = 'train' if train else 'test'\n",
        "\n",
        "  for filename in glob.glob('aclImdb/%s/pos/*.txt' % mode):\n",
        "    with open(filename, 'r') as f:\n",
        "      review = f.readlines()[0]\n",
        "      reviews.append(transform(review))\n",
        "      labels.append(1)\n",
        "\n",
        "  for filename in glob.glob('aclImdb/%s/neg/*.txt' % mode):\n",
        "    with open(filename, 'r') as f:\n",
        "      review = f.readlines()[0]\n",
        "      reviews.append(transform(review))\n",
        "      labels.append(0)\n",
        "\n",
        "  return reviews, np.array(labels)"
      ],
      "execution_count": 0,
      "outputs": []
    },
    {
      "cell_type": "code",
      "metadata": {
        "id": "5vT2v3NVxefX",
        "colab_type": "code",
        "colab": {}
      },
      "source": [
        "reviews_train, y_train = get_data()"
      ],
      "execution_count": 0,
      "outputs": []
    },
    {
      "cell_type": "code",
      "metadata": {
        "id": "XekP6taJyoO9",
        "colab_type": "code",
        "outputId": "3920eae3-4398-438b-be45-7d677164b427",
        "colab": {
          "base_uri": "https://localhost:8080/",
          "height": 71
        }
      },
      "source": [
        "reviews_train[-5000], y_train[-5000]"
      ],
      "execution_count": 7,
      "outputs": [
        {
          "output_type": "execute_result",
          "data": {
            "text/plain": [
              "(\"I tried to like this slasher, like I try to enjoy all slasher films. I mean mindless slaying mixed with a little nudity and some suspense, how can you go wrong. But Unhinged I think is an example of that formula going wrong. The main issue is the horrible acting of the main three girls that landed up in the house. It was as if they were under sedation, and it stopped me from ever getting interested in their plight. The film aims for suspense and creepiness but the by the numbers direction saps it of those, and leaves the movie pretty dull. It's a shame, because if the movie was better executed, it would have have been ace. The story and characters are pretty creepy and there are some dark and bizarrely humorous moments of interaction between the mother, the girls, and the daughter in the old house. There's some good nudity, and occasional splashy bloodletting, just not enough to give the film the kick it needed. The finale is pretty twisted and fearsome, and does give the film a big lift but sadly, its too little too late. So, in my opinion, one to avoid, unless you really love obscure slasher films. There's a fair amount of potential, but the film delivers too little to be worthwhile.\",\n",
              " 0)"
            ]
          },
          "metadata": {
            "tags": []
          },
          "execution_count": 7
        }
      ]
    },
    {
      "cell_type": "code",
      "metadata": {
        "id": "oElstWG7AZKO",
        "colab_type": "code",
        "outputId": "be58c0e4-d045-4cdf-9601-f7a86df2ba52",
        "colab": {
          "base_uri": "https://localhost:8080/",
          "height": 71
        }
      },
      "source": [
        "reviews_train[10000], y_train[10000]"
      ],
      "execution_count": 8,
      "outputs": [
        {
          "output_type": "execute_result",
          "data": {
            "text/plain": [
              "('Scott Henderson, the engineer that employs Carol Richman, as his assistant, makes a point to call her \"Kansas\", whenever he speaks to her. It shows us that Carol, effectively played by Ella Raines, is supposed to be a babe in the woods, as far as the Manhattan of the 40s was concerned. Only a woman, from out of town, would follow the shady bartender to a solitary elevated subway. Even then, only a naive girl could undertake such an adventure.Robert Siodmak directed this film noir very well. He shows a flair for infusing the story with a lot of raw sex that was surprising for those days. How else could we justify the way the drummer in the orchestra of the musical, where Scott takes the mysterious woman with an unusual hat, makes such an overt pass at a lady on a date? The drummer played with high voltage by Elisha Cook Jr. doesn\\'t hide his desires for any of the ladies who sat in the front row of the hit musical where he plays. It was a real explicit invitation, first to the \"phantom woman\" of the story, Fay Helm; afterward, Cliff the drummer, insinuates himself very openly to Ella Raines who goes to the theater disguised as the mystery dame her boss had taken originally.This is a film that will hook any viewer from the beginning. There are things not explained in it, but it holds the one\\'s interest throughout. The killer is not revealed until the end. Ella Raines with her expressive eyes was an under estimated actress. She holds her own against much more experienced actors. Franchot Tone, a New York stage actor, working in Hollywood, never found in this medium the fame he deserved. He is effective as the accused man\\'s best friend. On the other hand, Alan Curtis, comes across as a man, who when framed, accepts his fate and is saved only by the tenacity of the woman who secretly loved him. Thomas Gomez, as the inspector Burgess, is an asset to the film as a detective who has his doubts the police had caught the man who committed the crime.This movie will not disappoint.',\n",
              " 1)"
            ]
          },
          "metadata": {
            "tags": []
          },
          "execution_count": 8
        }
      ]
    },
    {
      "cell_type": "code",
      "metadata": {
        "id": "yGS4_TlAkeIY",
        "colab_type": "code",
        "colab": {}
      },
      "source": [
        "# Split reviews by whitespace, remove punctuation, and return indexes\n",
        "tokenizer = tf.keras.preprocessing.text.Tokenizer(\n",
        "                      num_words=MAX_NUM_WORDS,\n",
        "                      filters='!\"#$%&()*+,-./:;<=>?@[\\\\]^_`{|}~\\t\\n',\n",
        "                      lower=True,\n",
        "                      split=' ')\n",
        "\n",
        "tokenizer.fit_on_texts(reviews_train)"
      ],
      "execution_count": 0,
      "outputs": []
    },
    {
      "cell_type": "code",
      "metadata": {
        "id": "ztU1iJvqmdth",
        "colab_type": "code",
        "outputId": "13e497a2-097d-4cf4-beb1-86990028e38e",
        "colab": {
          "base_uri": "https://localhost:8080/",
          "height": 34
        }
      },
      "source": [
        "# Index 0 is reserved for UNK words\n",
        "word2index = tokenizer.word_index\n",
        "print('Found %s unique tokens.' % len(word2index))"
      ],
      "execution_count": 10,
      "outputs": [
        {
          "output_type": "stream",
          "text": [
            "Found 89661 unique tokens.\n"
          ],
          "name": "stdout"
        }
      ]
    },
    {
      "cell_type": "code",
      "metadata": {
        "id": "V7Owq2C5lqKb",
        "colab_type": "code",
        "colab": {}
      },
      "source": [
        "# Transforms each text in texts to a sequence of integers.\n",
        "sequences = tokenizer.texts_to_sequences(reviews_train)"
      ],
      "execution_count": 0,
      "outputs": []
    },
    {
      "cell_type": "code",
      "metadata": {
        "id": "qhLdNBA2SLtT",
        "colab_type": "code",
        "outputId": "7886f141-107a-42d8-83d1-f1beecc91d89",
        "colab": {
          "base_uri": "https://localhost:8080/",
          "height": 279
        }
      },
      "source": [
        "seq_lens = [len(seq) for seq in sequences]\n",
        "\n",
        "plt.hist(seq_lens, bins=50)\n",
        "plt.ylabel('# examples')\n",
        "plt.xlabel('Review Length (# words)')\n",
        "plt.show()"
      ],
      "execution_count": 12,
      "outputs": [
        {
          "output_type": "display_data",
          "data": {
            "image/png": "[encoded data removed]",
            "text/plain": [
              "<Figure size 432x288 with 1 Axes>"
            ]
          },
          "metadata": {
            "tags": [],
            "needs_background": "light"
          }
        }
      ]
    },
    {
      "cell_type": "code",
      "metadata": {
        "id": "Fe8QOOl_md9S",
        "colab_type": "code",
        "colab": {}
      },
      "source": [
        "x_train = tf.keras.preprocessing.sequence.pad_sequences(sequences, maxlen=MAX_SEQUENCE_LENGTH) # (N, max_len)"
      ],
      "execution_count": 0,
      "outputs": []
    },
    {
      "cell_type": "code",
      "metadata": {
        "id": "3-Yq0c99mlfB",
        "colab_type": "code",
        "outputId": "8e64610a-2cb8-4166-9e88-a7c016baae75",
        "colab": {
          "base_uri": "https://localhost:8080/",
          "height": 493
        }
      },
      "source": [
        "x_train[0]"
      ],
      "execution_count": 17,
      "outputs": [
        {
          "output_type": "execute_result",
          "data": {
            "text/plain": [
              "array([   1,   60, 2075, 1557,  731,   30,  587,    4, 2361, 2453,   19,\n",
              "         10,   51, 2797,   11,    8,  281,    3,  795, 2210,   18, 2210,\n",
              "          6, 2510,  741,    1, 9257,    4,    3, 1328, 1153,   61,   11,\n",
              "        214,   23,  201, 2443,   15,   23, 2305, 6103,  725,  407, 2546,\n",
              "         35,   26,   11,    1,   61,    6,  811,    2,    1,  410,   56,\n",
              "        429,  242,   10,    6,   40,    1,   60, 2797,   11,  107,   76,\n",
              "        328,   14,    1,   18, 1871,    8,    6,  278,   11,    8,    6,\n",
              "         20, 2210,    7,    1,  277,    4,  412, 6190,   38, 1274,   28,\n",
              "        104,   59,    9,   77, 6432,    1,  725,   61,  939,    3,  271,\n",
              "        495,    4, 2210,   11,    6,   30,   53,  810,  390,   44,   21,\n",
              "         22,    3, 2210,  333,    8,    6,   87,  670,    5, 3127,   11,\n",
              "        495,    4, 2210,   15,   10,  785,    1, 1315,    6,  546,    2,\n",
              "       4346,   59,  405,   21,    3,  143,  277,    4,    1, 2325,   13,\n",
              "         26, 4111,    5,   23, 7260, 6103, 1338,    6, 1571,   40,   23,\n",
              "        497,    2,   23, 1514,   15,   23,  318,  472,    2,   23,  591,\n",
              "        242,  568, 2664,    6,   11,   46,   22,   53, 2173,   59,   60,\n",
              "       1604,    5,    1,  958,   59, 1571,   68,    4,   57, 3948,   15,\n",
              "         57, 9875,    1, 1172, 2945,   36,  145,    3, 2067,  108, 2927,\n",
              "        176,    3,  546, 6348, 1862,    2,    8,    6,  303,    5,  102,\n",
              "          1, 1244, 5033,    4,    1,  174,   22,    2,  291,   15,    1,\n",
              "        303,  809,   30,  162,   68,    5,  136,    5,  930,    1,  350,\n",
              "         22,   77,  317,   15,  171,  280,  860,    7,   64,  551,    2,\n",
              "        742, 8923,    6,  568,  317,   23,  729, 4347,   12, 3047, 1808,\n",
              "          2,    8,   12,    3,  898,   11,   26,  156, 1170, 3558,  186,\n",
              "          8,    6,  238,    1, 1877,  609,   14,   97,  280,   34, 1871,\n",
              "          1,  725,   61,  939,  595,    4, 7573, 1310,   38, 5032,  410,\n",
              "          1,   18,    6,    3, 1424,  105, 2068,   40,  393,  150,    2,\n",
              "        262,  541, 1173], dtype=int32)"
            ]
          },
          "metadata": {
            "tags": []
          },
          "execution_count": 17
        }
      ]
    },
    {
      "cell_type": "markdown",
      "metadata": {
        "id": "PHJVBb9BnKfa",
        "colab_type": "text"
      },
      "source": [
        "# Model Definition\n",
        "\n",
        "- https://github.com/keras-team/keras/blob/3bda5520b787f84f687bb116c460f3aedada039b/examples/pretrained_word_embeddings.py"
      ]
    },
    {
      "cell_type": "code",
      "metadata": {
        "id": "L7mOlQ-MsFAH",
        "colab_type": "code",
        "colab": {}
      },
      "source": [
        "embeddings_dict = {}\n",
        "\n",
        "with smart_open.open('http://nlp.stanford.edu/data/glove.6B.zip', 'rb') as fin:\n",
        "  zfin = zipfile.ZipFile(fin)\n",
        "  for line in zfin.open('glove.6B.50d.txt'):\n",
        "    word, coefs = line.decode('utf-8').split(maxsplit=1)\n",
        "    coefs = np.fromstring(coefs, 'f', sep=' ')\n",
        "    embeddings_dict[word] = coefs"
      ],
      "execution_count": 0,
      "outputs": []
    },
    {
      "cell_type": "code",
      "metadata": {
        "id": "6E-YeIwhwnJA",
        "colab_type": "code",
        "colab": {}
      },
      "source": [
        "# prepare embedding matrix\n",
        "num_words = min(MAX_NUM_WORDS, len(word2index) + 1)\n",
        "embedding_matrix = np.zeros((num_words, EMBEDDING_DIM))\n",
        "for word, i in word2index.items():\n",
        "    if i >= MAX_NUM_WORDS:\n",
        "        continue\n",
        "    embedding_vector = embeddings_dict.get(word)\n",
        "    if embedding_vector is not None:\n",
        "        # words not found in embedding index will be all-zeros.\n",
        "        embedding_matrix[i] = embedding_vector"
      ],
      "execution_count": 0,
      "outputs": []
    },
    {
      "cell_type": "code",
      "metadata": {
        "id": "-gloPjEmUlVD",
        "colab_type": "code",
        "colab": {}
      },
      "source": [
        "# load pre-trained word embeddings into an Embedding layer\n",
        "# note that we set trainable = False so as to keep the embeddings fixed\n",
        "embedding_layer = tf.keras.layers.Embedding(\n",
        "                            num_words,\n",
        "                            EMBEDDING_DIM,\n",
        "                            embeddings_initializer=tf.keras.initializers.Constant(embedding_matrix),\n",
        "                            input_length=MAX_SEQUENCE_LENGTH,\n",
        "                            trainable=False)"
      ],
      "execution_count": 0,
      "outputs": []
    },
    {
      "cell_type": "code",
      "metadata": {
        "id": "td5TTjMlx2_h",
        "colab_type": "code",
        "colab": {}
      },
      "source": [
        "# train a 1D convnet with global maxpooling\n",
        "model = tf.keras.Sequential()\n",
        "model.add(embedding_layer)\n",
        "model.add(tf.keras.layers.Conv1D(128, 5, activation='relu'))\n",
        "model.add(tf.keras.layers.MaxPooling1D(5))\n",
        "model.add(tf.keras.layers.GlobalMaxPooling1D())\n",
        "model.add(tf.keras.layers.Dense(1, activation='sigmoid'))\n",
        "\n",
        "model.compile(loss='binary_crossentropy',\n",
        "              optimizer='adam',\n",
        "              metrics=['accuracy'])"
      ],
      "execution_count": 0,
      "outputs": []
    },
    {
      "cell_type": "code",
      "metadata": {
        "id": "AF2H2vnIziWi",
        "colab_type": "code",
        "outputId": "7c9efece-a4f1-4bae-811c-b83b1fc02f60",
        "colab": {
          "base_uri": "https://localhost:8080/",
          "height": 323
        }
      },
      "source": [
        "model.summary()"
      ],
      "execution_count": 23,
      "outputs": [
        {
          "output_type": "stream",
          "text": [
            "Model: \"sequential\"\n",
            "_________________________________________________________________\n",
            "Layer (type)                 Output Shape              Param #   \n",
            "=================================================================\n",
            "embedding (Embedding)        (None, 300, 50)           500000    \n",
            "_________________________________________________________________\n",
            "conv1d (Conv1D)              (None, 296, 128)          32128     \n",
            "_________________________________________________________________\n",
            "max_pooling1d (MaxPooling1D) (None, 59, 128)           0         \n",
            "_________________________________________________________________\n",
            "global_max_pooling1d (Global (None, 128)               0         \n",
            "_________________________________________________________________\n",
            "dense (Dense)                (None, 1)                 129       \n",
            "=================================================================\n",
            "Total params: 532,257\n",
            "Trainable params: 32,257\n",
            "Non-trainable params: 500,000\n",
            "_________________________________________________________________\n"
          ],
          "name": "stdout"
        }
      ]
    },
    {
      "cell_type": "markdown",
      "metadata": {
        "id": "IVvcBO5Wz998",
        "colab_type": "text"
      },
      "source": [
        "# Training"
      ]
    },
    {
      "cell_type": "code",
      "metadata": {
        "id": "bkPEsd59x4VZ",
        "colab_type": "code",
        "outputId": "29eb75d5-6a1e-47cb-b95f-0f0eb3f0cee2",
        "colab": {
          "base_uri": "https://localhost:8080/",
          "height": 377
        }
      },
      "source": [
        "history = model.fit(x_train, y_train,\n",
        "                    batch_size=16,\n",
        "                    epochs=10,\n",
        "                    validation_split=0.2)"
      ],
      "execution_count": 24,
      "outputs": [
        {
          "output_type": "stream",
          "text": [
            "Epoch 1/10\n",
            "1250/1250 [==============================] - 29s 23ms/step - loss: 0.4471 - accuracy: 0.7876 - val_loss: 0.4730 - val_accuracy: 0.7696\n",
            "Epoch 2/10\n",
            "1250/1250 [==============================] - 29s 23ms/step - loss: 0.3222 - accuracy: 0.8640 - val_loss: 0.7224 - val_accuracy: 0.6568\n",
            "Epoch 3/10\n",
            "1250/1250 [==============================] - 29s 23ms/step - loss: 0.2656 - accuracy: 0.8910 - val_loss: 0.4734 - val_accuracy: 0.7840\n",
            "Epoch 4/10\n",
            "1250/1250 [==============================] - 29s 23ms/step - loss: 0.2155 - accuracy: 0.9151 - val_loss: 0.2851 - val_accuracy: 0.8784\n",
            "Epoch 5/10\n",
            "1250/1250 [==============================] - 29s 23ms/step - loss: 0.1686 - accuracy: 0.9392 - val_loss: 0.4359 - val_accuracy: 0.8204\n",
            "Epoch 6/10\n",
            "1250/1250 [==============================] - 29s 23ms/step - loss: 0.1319 - accuracy: 0.9570 - val_loss: 0.5925 - val_accuracy: 0.7722\n",
            "Epoch 7/10\n",
            "1250/1250 [==============================] - 29s 23ms/step - loss: 0.0975 - accuracy: 0.9722 - val_loss: 0.5126 - val_accuracy: 0.8066\n",
            "Epoch 8/10\n",
            "1250/1250 [==============================] - 29s 23ms/step - loss: 0.0725 - accuracy: 0.9830 - val_loss: 1.0136 - val_accuracy: 0.6802\n",
            "Epoch 9/10\n",
            "1250/1250 [==============================] - 29s 23ms/step - loss: 0.0609 - accuracy: 0.9847 - val_loss: 0.7131 - val_accuracy: 0.7754\n",
            "Epoch 10/10\n",
            "1250/1250 [==============================] - 29s 23ms/step - loss: 0.0418 - accuracy: 0.9926 - val_loss: 1.0620 - val_accuracy: 0.6968\n"
          ],
          "name": "stdout"
        }
      ]
    },
    {
      "cell_type": "markdown",
      "metadata": {
        "id": "T7YjUQk7z-6O",
        "colab_type": "text"
      },
      "source": [
        "# Evaluate"
      ]
    },
    {
      "cell_type": "code",
      "metadata": {
        "id": "nq_XHBWnz_ee",
        "colab_type": "code",
        "colab": {}
      },
      "source": [
        "reviews_test, y_test = get_data(train=False)\n",
        "seq_test = tokenizer.texts_to_sequences(reviews_test)\n",
        "x_test = tf.keras.preprocessing.sequence.pad_sequences(seq_test, maxlen=MAX_SEQUENCE_LENGTH)"
      ],
      "execution_count": 0,
      "outputs": []
    },
    {
      "cell_type": "code",
      "metadata": {
        "id": "f_YNCMBBVh7Q",
        "colab_type": "code",
        "outputId": "7b9288d7-9054-4e74-babc-40d906bbb3c5",
        "colab": {
          "base_uri": "https://localhost:8080/",
          "height": 51
        }
      },
      "source": [
        "model.evaluate(x_test, y_test, batch_size=64)"
      ],
      "execution_count": 27,
      "outputs": [
        {
          "output_type": "stream",
          "text": [
            "391/391 [==============================] - 15s 37ms/step - loss: 0.6099 - accuracy: 0.8136\n"
          ],
          "name": "stdout"
        },
        {
          "output_type": "execute_result",
          "data": {
            "text/plain": [
              "[0.6098830103874207, 0.8135600090026855]"
            ]
          },
          "metadata": {
            "tags": []
          },
          "execution_count": 27
        }
      ]
    },
    {
      "cell_type": "markdown",
      "metadata": {
        "id": "BuDmPQiuWE1X",
        "colab_type": "text"
      },
      "source": [
        "## Analyze"
      ]
    },
    {
      "cell_type": "code",
      "metadata": {
        "id": "iYReErb0VxF4",
        "colab_type": "code",
        "colab": {}
      },
      "source": [
        "test_preds = model.predict(x_test).reshape(-1)"
      ],
      "execution_count": 0,
      "outputs": []
    },
    {
      "cell_type": "code",
      "metadata": {
        "id": "3wrC-lU1WCgL",
        "colab_type": "code",
        "outputId": "3bea1550-5373-4a5c-df07-87cd0365aa4f",
        "colab": {
          "base_uri": "https://localhost:8080/",
          "height": 279
        }
      },
      "source": [
        "plt.hist(test_preds[y_test == 1], bins=20, alpha=0.8, label='Positive')\n",
        "plt.hist(test_preds[y_test == 0], bins=20, alpha=0.8, label='Negative')\n",
        "plt.xlabel('Activation')\n",
        "plt.ylabel('Frequency')\n",
        "plt.legend()\n",
        "plt.show()"
      ],
      "execution_count": 0,
      "outputs": [
        {
          "output_type": "display_data",
          "data": {
            "image/png": "[encoded data removed]",
            "text/plain": [
              "<Figure size 432x288 with 1 Axes>"
            ]
          },
          "metadata": {
            "tags": []
          }
        }
      ]
    },
    {
      "cell_type": "code",
      "metadata": {
        "id": "cOfnqZjrWR6e",
        "colab_type": "code",
        "colab": {}
      },
      "source": [
        "sorted_preds = test_preds.argsort()"
      ],
      "execution_count": 0,
      "outputs": []
    },
    {
      "cell_type": "code",
      "metadata": {
        "id": "7U_h6Cipnitl",
        "colab_type": "code",
        "outputId": "8dddc267-4f79-4d61-a5bd-c07711b51054",
        "colab": {
          "base_uri": "https://localhost:8080/",
          "height": 71
        }
      },
      "source": [
        "i = sorted_preds[0]\n",
        "print(y_test[i], test_preds[i])\n",
        "' '.join(reviews_test[i].split(' ')[:300])"
      ],
      "execution_count": 0,
      "outputs": [
        {
          "output_type": "stream",
          "text": [
            "0 0.0\n"
          ],
          "name": "stdout"
        },
        {
          "output_type": "execute_result",
          "data": {
            "text/plain": [
              "'I had been avoiding this movie for sometime...because I viewed it as an unneccesary installment to a series that should have only had 2 parts. But, after reading some fairly favorable reviews...from some IMDB watchers...I spent $1.50 and rented it at my local video store. Need I go further...when I say....this was a buck-50 lost. This movie is one of the 10 worst movies I have ever seen. First off....I realize that noone wanted to see a 33 year old Macchio in this film.....But, why could\\'nt they have had Miyagi read a letter or something from Daniel-san...maybe explaining what happened to Daniel...hell, they could have at least made a quick mention of daniel or something. But, no...and to compund the already bad script....they added those stupid monks...I thought monks take a vow of silence...guess these yapping monks don\\'t take their vows seriously...hehehe. The training the girl went through in the movie was hurried and stupid...and the paramilitary group of young males....were a confusing concept to say the least....this was far from even being a martial arts movie...with the girl only fighting briefly in the final scene....and then she didn\\'t even come close to getting hit even once...by the male fighting her....give me a break...she would have gotten hit at least once....I guess the writers and directors thought it would be to shocking to see a girl get punched by a male in this one. I could go on and on...but, basically...I\\'ll end by saying that this movie was just so bad....even the girl they chose wasn\\'t nice to even look at(she was sorta \"butch\" looking)....I can only think of a handful of movies that I have sit through...that compare to just how bad this flick was.....DON\"T WASTE YOUR TIME ON THIS ONE..........'"
            ]
          },
          "metadata": {
            "tags": []
          },
          "execution_count": 97
        }
      ]
    },
    {
      "cell_type": "code",
      "metadata": {
        "id": "HmPc7uK3qghW",
        "colab_type": "code",
        "outputId": "5972d64f-42f7-4a02-ee52-e551d84ecef5",
        "colab": {
          "base_uri": "https://localhost:8080/",
          "height": 71
        }
      },
      "source": [
        "i = sorted_preds[-1]\n",
        "print(y_test[i], test_preds[i])\n",
        "' '.join(reviews_test[i].split(' ')[:300])"
      ],
      "execution_count": 0,
      "outputs": [
        {
          "output_type": "stream",
          "text": [
            "1 1.0\n"
          ],
          "name": "stdout"
        },
        {
          "output_type": "execute_result",
          "data": {
            "text/plain": [
              "\"One of my favorite movies of all times, have seen it three times already. It does a great job of summing up the Isrelai walks of life, Israeli humor, and seriousness, and much of the problems Israelis go through. Universal theme of wanting to be accepted, and be accepted for who you are. Good subtle humor, and it's the charisma of the characters, that makes this movie magic, and says a lot about Isrlaei culture, and the irnonicness, contradictions, and humor, with a great actor in it, Oshri Cohen. I highly recommend it to anyone, and it's a movie perfect for practically anyone, family movie, boyfriend/girlfriend movie, and also says apart from Israeli culture, wanting to be accepted, most of all, how important family is, with all its diversity and imperfections.Great great movie.\""
            ]
          },
          "metadata": {
            "tags": []
          },
          "execution_count": 101
        }
      ]
    },
    {
      "cell_type": "code",
      "metadata": {
        "id": "eiEtvwlkpgew",
        "colab_type": "code",
        "outputId": "5e230e9d-7e85-4ab9-e6bc-7e46f35b0e70",
        "colab": {
          "base_uri": "https://localhost:8080/",
          "height": 71
        }
      },
      "source": [
        "mediums = np.nonzero(test_preds.round(2) == 0.5)[0]\n",
        "i = mediums[0]\n",
        "print(y_test[i], test_preds[i])\n",
        "' '.join(reviews_test[i].split(' ')[:300])"
      ],
      "execution_count": 0,
      "outputs": [
        {
          "output_type": "stream",
          "text": [
            "1 0.50354767\n"
          ],
          "name": "stdout"
        },
        {
          "output_type": "execute_result",
          "data": {
            "text/plain": [
              "\"I recently purchased this on DVD as I hadn't heard of it and like robert carlyle.Obviously this movie is not going to have Hollywood blockbuster special effects,in saying that though the special effects were decent enough,and the acting was fine also.I found the movie to be enjoyable and do not regret buying it at all,at almost 2 hours long it is just the right length for this type of movie.Do not expect thrilling explosive action from beginning to end though,it is a fairly well balanced movie with a decent enough storyline!\""
            ]
          },
          "metadata": {
            "tags": []
          },
          "execution_count": 99
        }
      ]
    },
    {
      "cell_type": "code",
      "metadata": {
        "id": "tPCueROxusov",
        "colab_type": "code",
        "colab": {}
      },
      "source": [
        "# Worst false positive (it's actually negative but model says positive)\n",
        "z_preds = test_preds.copy()\n",
        "z_preds[y_test == 1] = 0\n",
        "z_preds = z_preds.argsort()"
      ],
      "execution_count": 0,
      "outputs": []
    },
    {
      "cell_type": "code",
      "metadata": {
        "id": "XYdqet51y4DC",
        "colab_type": "code",
        "outputId": "764a20c1-349c-4600-e263-9e508dc28102",
        "colab": {
          "base_uri": "https://localhost:8080/",
          "height": 71
        }
      },
      "source": [
        "i = z_preds[-2]\n",
        "print(y_test[i], test_preds[i])\n",
        "' '.join(reviews_test[i].split(' ')[:300])"
      ],
      "execution_count": 0,
      "outputs": [
        {
          "output_type": "stream",
          "text": [
            "0 0.9999996\n"
          ],
          "name": "stdout"
        },
        {
          "output_type": "execute_result",
          "data": {
            "text/plain": [
              "'I really liked this quirky movie. The characters are not the bland beautiful people that show up in so many movies and on TV. It has a realistic edge, with a captivating story line. The main title sequence alone makes this movie fun to watch.'"
            ]
          },
          "metadata": {
            "tags": []
          },
          "execution_count": 112
        }
      ]
    },
    {
      "cell_type": "code",
      "metadata": {
        "id": "ZrmvgkTX0wdO",
        "colab_type": "code",
        "colab": {}
      },
      "source": [
        "# Worst false negative (it's actually positive but model says negative)\n",
        "z_preds = test_preds.copy()\n",
        "z_preds[y_test == 0] = 1\n",
        "z_preds = z_preds.argsort()"
      ],
      "execution_count": 0,
      "outputs": []
    },
    {
      "cell_type": "code",
      "metadata": {
        "id": "kADFU3Ae1esG",
        "colab_type": "code",
        "outputId": "73de1e69-0f08-4d09-fef6-159a87fdda34",
        "colab": {
          "base_uri": "https://localhost:8080/",
          "height": 71
        }
      },
      "source": [
        "i = z_preds[0]\n",
        "print(y_test[i], test_preds[i])\n",
        "' '.join(reviews_test[i].split(' ')[:300])"
      ],
      "execution_count": 0,
      "outputs": [
        {
          "output_type": "stream",
          "text": [
            "1 1.129508e-05\n"
          ],
          "name": "stdout"
        },
        {
          "output_type": "execute_result",
          "data": {
            "text/plain": [
              "\"To surmise, this film involves two actors (Caine and Moran) trying to con a gangster. The plot is flimsy at best as several plot holes occur throughout. However this normally shouldn't matter as the comedy should carry a film like this. There are some genuinely funny bits (mostly provided by Dylan Moran). However, other times, there are long melodramatic scenes that fail to add anything to the movie. Caine's character seemed overdone to me. Especially at the start, he continually quotes Shakespeare and acts like a pompous actor. One could say he was playing the part properly but the character seemed to me flat and unfunny. Overall I would say see only if a fan of the actors involved. Otherwise wait for video or tv.\""
            ]
          },
          "metadata": {
            "tags": []
          },
          "execution_count": 114
        }
      ]
    }
  ]
}